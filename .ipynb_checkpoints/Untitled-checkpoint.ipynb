{
 "cells": [
  {
   "cell_type": "markdown",
   "id": "72576de9-3548-4266-b0b0-deefe875a020",
   "metadata": {},
   "source": [
    "# Equlizer\n",
    "\n",
    "## Plans\n",
    "1. Upload .wav File \n",
    "2. Plot .wav File (spectrum, sine)\n",
    "3. Setup Interaction\n",
    "4. Ask Low, Mid or High\n",
    "5. Calculate Bandpass Frequencies\n",
    "6. Show Bandpass with right Frequencies\n",
    "7. Calculate amplification or decrease\n",
    "\n"
   ]
  },
  {
   "cell_type": "markdown",
   "id": "2b4c04bd-c8b4-4f8c-a5c8-be58d0516574",
   "metadata": {},
   "source": [
    "#### Bibliotheken"
   ]
  },
  {
   "cell_type": "code",
   "execution_count": 1,
   "id": "b057dcf0-cbd3-4dd9-828a-9f44ec47b689",
   "metadata": {},
   "outputs": [],
   "source": [
    "import numpy as np\n",
    "import ipywidgets as widgets\n",
    "import matplotlib as matplot"
   ]
  },
  {
   "cell_type": "markdown",
   "id": "3e943c82-4cc8-4ae1-bdf8-e840ab16edb5",
   "metadata": {
    "tags": []
   },
   "source": [
    "#### Systemvariablen\n",
    "\n",
    "SetupMode = Definiert auf welches Frequenzspektrum die Bandpässe mehr einfluss haben\n",
    "\n",
    "Controllrange = [Maximale reduzierung, Maximale verstärkung, Standartwert]\n",
    "\n",
    "Bands = Anzahl der zu berechnenden Bänder. Default = 10"
   ]
  },
  {
   "cell_type": "code",
   "execution_count": 2,
   "id": "e68beea9-aa11-4849-9502-3747a8aed1a3",
   "metadata": {},
   "outputs": [],
   "source": [
    "SetupMode = [\"Bass\", \"Mid\", \"High\"]\n",
    "\n",
    "Controllrange = [-12, 12, 0]\n",
    "\n",
    "Bands = 20"
   ]
  },
  {
   "cell_type": "code",
   "execution_count": 24,
   "id": "dae2d9bc-ba8f-46f6-b80a-452a780dea4f",
   "metadata": {},
   "outputs": [],
   "source": [
    "\"\"\" Generating EQ Slider \"\"\"\n",
    "Testfreq = [1,2,3,4,5,6,7,8,9,10,11,12,13,14,15,16,17,18,19,20]\n",
    "\n",
    "GraphicEQ = widgets.GridspecLayout(Bands, 1)\n",
    "\n",
    "slider = [widgets.IntSlider(\n",
    "        value=Controllrange[2],\n",
    "        min=Controllrange[0],\n",
    "        max=Controllrange[1],\n",
    "        step=1,\n",
    "        description=str(Testfreq[i])+' Hz',\n",
    "        disabled=False,\n",
    "        continuous_update=False,\n",
    "        orientation='vertical',\n",
    "        readout=True,\n",
    "        readout_format='d',\n",
    "        layout = widgets.Layout(width='50%')\n",
    "    ) for i in range(Bands)]\n",
    "\n",
    "EQDisplay = widgets.Box(children=slider)\n",
    "#-> carousel = widgets.Box(children=items, layout=box_layout)"
   ]
  },
  {
   "cell_type": "code",
   "execution_count": 26,
   "id": "3d230af6-161e-4ab9-8d39-84f83c6ccaef",
   "metadata": {},
   "outputs": [
    {
     "data": {
      "application/vnd.jupyter.widget-view+json": {
       "model_id": "29cdb42a714448ee81640dcf3da6a5a4",
       "version_major": 2,
       "version_minor": 0
      },
      "text/plain": [
       "interactive(children=(Output(),), _dom_classes=('widget-interact',))"
      ]
     },
     "metadata": {},
     "output_type": "display_data"
    },
    {
     "data": {
      "text/plain": [
       "<function ipywidgets.widgets.interaction._InteractFactory.__call__.<locals>.<lambda>(*args, **kwargs)>"
      ]
     },
     "execution_count": 26,
     "metadata": {},
     "output_type": "execute_result"
    }
   ],
   "source": [
    "widgets.interact(slider)"
   ]
  },
  {
   "cell_type": "code",
   "execution_count": null,
   "id": "9b7652b1-9d84-469c-859a-955c53a5cf55",
   "metadata": {},
   "outputs": [],
   "source": []
  },
  {
   "cell_type": "code",
   "execution_count": null,
   "id": "f78aba96-a644-4dcd-b904-3e3f4735c1cc",
   "metadata": {},
   "outputs": [],
   "source": [
    "Testfreq = [1,2,3,4,5,6,7,8,9,10,11,12,13,14,15,16,17,18,19,20]"
   ]
  },
  {
   "cell_type": "code",
   "execution_count": null,
   "id": "360cc86e-6c6d-4eb4-a832-cdb328a880ef",
   "metadata": {},
   "outputs": [],
   "source": [
    "widgets.BoundedIntText(\n",
    "    value=10,\n",
    "    min=5,\n",
    "    max=20,\n",
    "    step=1,\n",
    "    description=':',\n",
    "    disabled=False\n",
    ")"
   ]
  },
  {
   "cell_type": "code",
   "execution_count": null,
   "id": "198193c6-6c28-4275-b0c4-8b307fe1f28e",
   "metadata": {},
   "outputs": [],
   "source": [
    "widgets.Checkbox(\n",
    "    value=False,\n",
    "    description='Check me',\n",
    "    disabled=False,\n",
    "    indent=False\n",
    ")"
   ]
  },
  {
   "cell_type": "code",
   "execution_count": null,
   "id": "d497b9f4-d064-4f83-9692-3ec1cecfff33",
   "metadata": {},
   "outputs": [],
   "source": [
    "widgets.Valid(\n",
    "    value=True,\n",
    "    description='Parameter wurden richtig angegeben',\n",
    ")"
   ]
  },
  {
   "cell_type": "code",
   "execution_count": null,
   "id": "1c33260e-54c8-4608-80a4-f7ff91eaa82f",
   "metadata": {},
   "outputs": [],
   "source": [
    "widgets.Dropdown(\n",
    "    options=[('Bass', 1), ('Mid', 2), ('High', 3)],\n",
    "    value=2,\n",
    "    description='EQ-Focus',\n",
    ")"
   ]
  },
  {
   "cell_type": "code",
   "execution_count": null,
   "id": "4563ecc1-8c78-466c-b58b-949ee9de57fe",
   "metadata": {},
   "outputs": [],
   "source": [
    "widgets.ToggleButtons(\n",
    "    options=['Bass', 'Mid', 'High'],\n",
    "    description='EQ-Pass:',\n",
    "    disabled=False,\n",
    "    button_style='', # 'success', 'info', 'warning', 'danger' or ''\n",
    "    tooltips=['Description of slow', 'Description of regular', 'Description of fast'],\n",
    "#     icons=['check'] * 3\n",
    ")"
   ]
  },
  {
   "cell_type": "code",
   "execution_count": null,
   "id": "97cc1496-382e-48be-9fec-ebe97773a3fb",
   "metadata": {},
   "outputs": [],
   "source": [
    "widgets.FileUpload(\n",
    "    accept='',  # Accepted file extension e.g. '.txt', '.pdf', 'image/*', 'image/*,.pdf'\n",
    "    multiple=False  # True to accept multiple files upload else False\n",
    ")"
   ]
  },
  {
   "cell_type": "code",
   "execution_count": null,
   "id": "d30163db-c2d6-4001-a0d9-e27c669bede7",
   "metadata": {},
   "outputs": [],
   "source": [
    "uploader = widgets.FileUpload()\n",
    "display(uploader)"
   ]
  },
  {
   "cell_type": "code",
   "execution_count": null,
   "id": "64b7fff9-290d-4e3c-8a42-2dbc3ea7495b",
   "metadata": {},
   "outputs": [],
   "source": [
    "mode.value"
   ]
  },
  {
   "cell_type": "code",
   "execution_count": null,
   "id": "6ba5e118-b40f-4061-ae9c-89748dc6fb78",
   "metadata": {},
   "outputs": [],
   "source": [
    "display(mode)"
   ]
  },
  {
   "cell_type": "code",
   "execution_count": null,
   "id": "b2dc8b2e-5c1e-4626-a6bb-8462e14a11c9",
   "metadata": {},
   "outputs": [],
   "source": [
    "SetupMode = [\"Bass\", \"Mid\", \"High\"]\n",
    "SetupMode[1]"
   ]
  },
  {
   "cell_type": "code",
   "execution_count": null,
   "id": "b6c32132-b604-433c-9eec-c8d1bbb46540",
   "metadata": {},
   "outputs": [],
   "source": []
  }
 ],
 "metadata": {
  "kernelspec": {
   "display_name": "Python 3 (ipykernel)",
   "language": "python",
   "name": "python3"
  },
  "language_info": {
   "codemirror_mode": {
    "name": "ipython",
    "version": 3
   },
   "file_extension": ".py",
   "mimetype": "text/x-python",
   "name": "python",
   "nbconvert_exporter": "python",
   "pygments_lexer": "ipython3",
   "version": "3.9.5"
  }
 },
 "nbformat": 4,
 "nbformat_minor": 5
}
