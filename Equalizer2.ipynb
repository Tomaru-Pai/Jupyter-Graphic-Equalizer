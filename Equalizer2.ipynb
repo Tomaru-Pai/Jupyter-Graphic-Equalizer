{
 "cells": [
  {
   "cell_type": "markdown",
   "id": "9936c010-f7ef-4f2e-878c-598e249329f6",
   "metadata": {
    "jp-MarkdownHeadingCollapsed": true,
    "tags": []
   },
   "source": [
    "## Libraries"
   ]
  },
  {
   "cell_type": "markdown",
   "id": "a796e435-6b05-4065-8bc4-8c6dbe90af19",
   "metadata": {},
   "source": [
    "#### Python Integrated or in Folder"
   ]
  },
  {
   "cell_type": "code",
   "execution_count": 1,
   "id": "71cfd58d-3241-4527-89cc-6bafe1048c8a",
   "metadata": {},
   "outputs": [],
   "source": [
    "import ipywidgets as widgets\n",
    "import thinkdsp as thinkdsp\n",
    "from thinkdsp import play_wave\n",
    "from thinkdsp import read_wave"
   ]
  },
  {
   "cell_type": "markdown",
   "id": "ff0f1413-afc4-49b4-9b57-367d9d2a26bd",
   "metadata": {
    "tags": []
   },
   "source": [
    "#### Require Installation"
   ]
  },
  {
   "cell_type": "markdown",
   "id": "24d15b78-1c91-4a2c-b97e-efeabb6de462",
   "metadata": {},
   "source": [
    "##### Enter these commands into your terminal:\n",
    "    pip install soundfile\n",
    "    pip install pyloudnorm\n",
    "    pip install pydub"
   ]
  },
  {
   "cell_type": "code",
   "execution_count": null,
   "id": "87c9e578-39fe-4374-ac5d-e79d80830fcd",
   "metadata": {},
   "outputs": [],
   "source": []
  },
  {
   "cell_type": "markdown",
   "id": "7018d082-25df-40c6-8acc-3315e54fff7f",
   "metadata": {
    "jp-MarkdownHeadingCollapsed": true,
    "tags": []
   },
   "source": [
    "## Variables"
   ]
  },
  {
   "cell_type": "markdown",
   "id": "558b30b3-3e69-47c7-8afc-ebfcb25fe7fa",
   "metadata": {
    "tags": []
   },
   "source": [
    "#### NOT Recommended for change"
   ]
  },
  {
   "cell_type": "code",
   "execution_count": 2,
   "id": "c3150528-58dc-4e3d-93cc-32883789c8a1",
   "metadata": {},
   "outputs": [],
   "source": [
    "Freqspecturmf0 = [0,0,0,0,0,0,0,0,0,0,0,0,0,0,0,0,0,0,0,0,0] # Displayed Frequency on EQ \n",
    "Freqspecturmfl = [0,0,0,0,0,0,0,0,0,0,0,0,0,0,0,0,0,0,0,0] # Lower Frequency for EQ\n",
    "Freqspecturmfh = [0,0,0,0,0,0,0,0,0,0,0,0,0,0,0,0,0,0,0,0] # Higher Frequency for EQ"
   ]
  },
  {
   "cell_type": "code",
   "execution_count": 3,
   "id": "e53ebb5c-edc8-4f9f-a804-d7d7f5459df3",
   "metadata": {},
   "outputs": [],
   "source": [
    "Bands = 10 # Standard Band Count\n",
    "Controllrange = [-12, 12, 0] # [Decrease, Gain, Default] in dB\n",
    "EQBandmin = 5\n",
    "EQBandmax = 20\n",
    "EQstep = 5"
   ]
  },
  {
   "cell_type": "code",
   "execution_count": null,
   "id": "2df1f433-4e4a-4cf8-afaa-45e45b25f798",
   "metadata": {},
   "outputs": [],
   "source": [
    "# Generates Grid for EQ\n",
    "GraphicEQ = widgets.GridspecLayout(Bands, 1)"
   ]
  },
  {
   "cell_type": "markdown",
   "id": "39965b25-c8a6-4a24-911c-f653413132b8",
   "metadata": {
    "tags": []
   },
   "source": [
    "#### Recommended for change"
   ]
  },
  {
   "cell_type": "code",
   "execution_count": 4,
   "id": "506ef3c7-b62f-42ad-9f3d-3a943ba35d2b",
   "metadata": {
    "tags": []
   },
   "outputs": [],
   "source": [
    "Text1 = widgets.Output()\n",
    "with Text1:\n",
    "    print(\"Choose your File, that you want to edit:\")\n",
    "    \n",
    "Text2 = widgets.Output()\n",
    "with Text2:\n",
    "    print(\"\\nChoose the focus of the EQ bandpass:\")\n",
    "    \n",
    "Text3 = widgets.Output()\n",
    "with Text3:\n",
    "    print(\"\\nChoose the EQ Slider Count:\")\n",
    "    \n",
    "Text4 = widgets.Output()\n",
    "with Text4:\n",
    "    print(\"\\nEqualizer:\")"
   ]
  },
  {
   "cell_type": "code",
   "execution_count": 5,
   "id": "2cf429a3-855e-47c9-bc6b-27d017e2e795",
   "metadata": {},
   "outputs": [],
   "source": [
    "UploadFileName = \"Upload\"\n",
    "FileFormat = \".wav\""
   ]
  },
  {
   "cell_type": "markdown",
   "id": "e3f0209a-47d9-4d12-ac00-8feb48c56e6f",
   "metadata": {
    "jp-MarkdownHeadingCollapsed": true,
    "tags": []
   },
   "source": [
    "## Functions"
   ]
  },
  {
   "cell_type": "markdown",
   "id": "a3d40638-dbce-45ee-abb5-b2574f58e468",
   "metadata": {
    "jp-MarkdownHeadingCollapsed": true,
    "tags": []
   },
   "source": [
    "##### Calculating Base Frequency of choosen Type of EQ "
   ]
  },
  {
   "cell_type": "code",
   "execution_count": 6,
   "id": "ca5237a5-aaf0-4d0a-8151-9575dc964e60",
   "metadata": {},
   "outputs": [],
   "source": [
    "def returnbasefreq(SetFilterType, ChooseBandCount):\n",
    "    # Scans input of choosen Type of EQ and gives back predefined start Frequencies for an 8 Band EQ\n",
    "    if (SetFilterType == 'Bass'):\n",
    "        f_base = 20\n",
    "    if (SetFilterType == 'Mid'):\n",
    "        f_base = 40\n",
    "    if (SetFilterType == 'High'):\n",
    "        f_base = 80\n",
    "    \n",
    "    # Modulates Frequency depending on difference between 8 / ChoosenBand\n",
    "    f_base = f_base * (8/ChooseBandCount)\n",
    "        \n",
    "    return f_base"
   ]
  },
  {
   "cell_type": "markdown",
   "id": "7dcdb850-eafd-4dd2-91ae-6306fcac890c",
   "metadata": {
    "jp-MarkdownHeadingCollapsed": true,
    "tags": []
   },
   "source": [
    "##### Calculates Base Frequencies that are displayed on EQ"
   ]
  },
  {
   "cell_type": "code",
   "execution_count": 7,
   "id": "6cf0eb2b-410d-4814-a4bb-39deb827c5eb",
   "metadata": {},
   "outputs": [],
   "source": [
    "def calculate_frequencies(SetFilterType, ChooseBandCount):\n",
    "    #resets values in Freqspecturm\n",
    "    Freqspecturmf0 = [0,0,0,0,0,0,0,0,0,0,0,0,0,0,0,0,0,0,0,0,0] # Clears all values that were precalculatet\n",
    "    \n",
    "    # Select start frequency for calculation\n",
    "    f_base = int(returnbasefreq(SetFilterType, ChooseBandCount))\n",
    "    # Calculates Modulation Rate for n-Frequencies\n",
    "    f_mod = pow(2, 10 / ChooseBandCount)\n",
    "    \n",
    "    # Generates Freqspecturm for given Type and Bandcount\n",
    "    Freqspecturmf0[0] = f_base\n",
    "    \n",
    "    for i in range(1, ChooseBandCount+1):\n",
    "        Freqspecturmf0[i] = int(f_mod * Freqspecturmf0[i-1]) # int() Rounds Value to non decimal\n",
    "    \n",
    "    # print (Freqspecturm)\n",
    "    return Freqspecturmf0\n",
    "\n",
    "# SetFilterType = 'Mid'\n",
    "# ChooseBandCount = 20\n",
    "# calculate_frequencies(SetFilterType, ChooseBandCount)"
   ]
  },
  {
   "cell_type": "markdown",
   "id": "67753367-c35c-4ec5-afcd-b1030bfc5681",
   "metadata": {
    "jp-MarkdownHeadingCollapsed": true,
    "tags": []
   },
   "source": [
    "##### Calculates log average of f0[n] and f0[n-1]"
   ]
  },
  {
   "cell_type": "code",
   "execution_count": 8,
   "id": "04b6c203-899a-4a16-94e9-134a59e19600",
   "metadata": {},
   "outputs": [],
   "source": [
    "def calculate_frequencieslow(Freqspecturmf0, ChooseBandCount):\n",
    "    # For the value of fl[0] of f0[0] we need to calculate f0[-1], fortunatly because we dont need a highpass on the first EQ we can set fl[0] = 0\n",
    "    Freqspecturmfl = [0,0,0,0,0,0,0,0,0,0,0,0,0,0,0,0,0,0,0,0] # Clears all values that were precalculatet\n",
    "    \n",
    "    Freqspecturmfl[0] = 0\n",
    "    \n",
    "    for i in range(1, ChooseBandCount):\n",
    "            Freqspecturmfl[i] = int(math.sqrt(Freqspecturmf0[i] * Freqspecturmf0[i-1]))\n",
    "    \n",
    "    return Freqspecturmfl"
   ]
  },
  {
   "cell_type": "markdown",
   "id": "0b807a58-9727-46a9-99c1-aeda4a400e72",
   "metadata": {
    "jp-MarkdownHeadingCollapsed": true,
    "tags": []
   },
   "source": [
    "##### Calculates log average of f0[n] and f0[n+1]"
   ]
  },
  {
   "cell_type": "code",
   "execution_count": 9,
   "id": "155c1122-b1a7-4896-8bd0-ca427dd7a39f",
   "metadata": {},
   "outputs": [],
   "source": [
    "def calculate_frequencieshigh(Freqspecturmf0, ChooseBandCount):\n",
    "    # For the value of fh[n] of f0[n] we need to calculate f0[n+1]\n",
    "    Freqspecturmfh = [0,0,0,0,0,0,0,0,0,0,0,0,0,0,0,0,0,0,0,0] # Clears all values that were precalculatet\n",
    "    \n",
    "    f_mod = pow(2, 10 / ChooseBandCount)\n",
    "    fnp1 = f_mod * Freqspecturmf0[ChooseBandCount]\n",
    "    \n",
    "    for i in range(0, ChooseBandCount):\n",
    "            Freqspecturmfh[i] = int(math.sqrt(Freqspecturmf0[i] * Freqspecturmf0[i+1]))\n",
    "    \n",
    "    return Freqspecturmfh"
   ]
  },
  {
   "cell_type": "markdown",
   "id": "baa14498-ccb3-46d7-b612-cb78e4488a96",
   "metadata": {
    "jp-MarkdownHeadingCollapsed": true,
    "tags": []
   },
   "source": [
    "##### Normalising Audio"
   ]
  },
  {
   "cell_type": "code",
   "execution_count": 10,
   "id": "aa8d70af-2c93-4da8-b32f-719628dc8f88",
   "metadata": {},
   "outputs": [],
   "source": [
    "# Value is the dB Value that the file will be normalised with\n",
    "# void function: Overrides [FileName] File\n",
    "\n",
    "def Normalise_Audio (FileName, FileFormat, Normalise):\n",
    "    # Load Audio File as shape(data, wave)\n",
    "    data, rate = sf.read(FileName + FileFormat)\n",
    "\n",
    "    # Initiolising loudness Meter by BS.1770 standart \n",
    "    meter = pyln.Meter(rate) \n",
    "    # measure loudness in dB\n",
    "    loudness = meter.integrated_loudness(data)\n",
    "    \n",
    "    # loudness normalize audio to [Normalise] dB LUFS\n",
    "    loudness_normalized_audio = pyln.normalize.loudness(data, loudness, Normalise)\n",
    "    sf.write(FileName  + FileFormat, loudness_normalized_audio, rate)"
   ]
  },
  {
   "cell_type": "markdown",
   "id": "2b16c5e4-aa19-4aab-af3e-b29651d11ef0",
   "metadata": {
    "jp-MarkdownHeadingCollapsed": true,
    "tags": []
   },
   "source": [
    "##### Generating temporary files"
   ]
  },
  {
   "cell_type": "code",
   "execution_count": 11,
   "id": "690f36d0-4a69-43b7-9655-b5146d5209b4",
   "metadata": {},
   "outputs": [],
   "source": [
    "# Generates Temp Copies for Processing every single Band\n",
    "# File Name is the UploadFile Name\n",
    "# FileName must not contail \".wav\" !!!\n",
    "\n",
    "def Generate_Copies(FileName, FileFormat, BandpassCount):\n",
    "    for i in range(0, ChooseBandCount-1):\n",
    "        FileName.export(FinishedFileName + string(ChooseBandCount) + FileFormat, \"wav\")"
   ]
  },
  {
   "cell_type": "markdown",
   "id": "1361ff66-639a-4578-820b-2decaaad6bf6",
   "metadata": {
    "jp-MarkdownHeadingCollapsed": true,
    "tags": []
   },
   "source": [
    "##### Bandpass Filter "
   ]
  },
  {
   "cell_type": "code",
   "execution_count": 12,
   "id": "04ee5416-2b20-4176-bdbb-de092c2e5cb5",
   "metadata": {},
   "outputs": [],
   "source": [
    "# Overwrites [n] temp Audio File\n",
    "# Filename is the current edited Bandpass\n",
    "# Gain is the current used Gain value of said bandpass\n",
    "\n",
    "def Bandpass_Filter (FileName, FileFormat, n, Gain, fl, fh):\n",
    "    # Load Audio File\n",
    "    wave = read_wave(FileName + string(n) + FileFormat)\n",
    "    # Lowpass filter with fh\n",
    "    spectrum.low_pass(fh)\n",
    "    # Highpass filter with fl\n",
    "    spectrum.high_pass(fl)\n",
    "    # Overrides Temp Audio File\n",
    "    with open(FileName + string(n) + FileFormat, \"w+b\") as edit:\n",
    "        edit.write(wave)"
   ]
  },
  {
   "cell_type": "markdown",
   "id": "489ac654-f305-4866-b3cb-931ddd032443",
   "metadata": {
    "tags": []
   },
   "source": [
    "##### Build Finished Audio"
   ]
  },
  {
   "cell_type": "code",
   "execution_count": 13,
   "id": "0f318691-d570-4dac-b2de-321533936b17",
   "metadata": {},
   "outputs": [],
   "source": [
    "# Overlaps several AudioFiles which have the same base name + and adressing Number + \".wav\"\n",
    "# Example \"FilterTemp\" + string(n) + \".wav\" starting from 0 to Bandpasscount-1\n",
    "# FileName must not contail \".wav\" !!!\n",
    "# FileType is the file ending, for example \".wav\"\n",
    "# FinishedFileName is the Filename which the Audio will be saved. Must contain Filename+\".wav\"\n",
    "\n",
    "def Build_Audio (FileName, FileFormat, FinishedFileName, BandpassCount):\n",
    "    # Load first Adio file\n",
    "    fullaudio = AudioSegment.from_wav(FileName + \"0\" + FileType)\n",
    "    # Generates loop\n",
    "    for i in range(0, ChooseBandCount-1):\n",
    "        # import current file\n",
    "        temp = AudioSegment.from_wav(FileName + string(ChooseBandCount) + FileFormat)\n",
    "        # Overlays fullaudio with new generated wave file\n",
    "        fullaudio = fullaudio.overlay(temp)\n",
    "\n",
    "    # Saves fullaudio\n",
    "    fullaudio.export(FinishedFileName, FileFormat)\n",
    "    \n",
    "    # Deletes temp Files (optional)"
   ]
  },
  {
   "cell_type": "markdown",
   "id": "1725ac1e-460c-48aa-83b0-fd1f713f5f15",
   "metadata": {},
   "source": [
    "## Main Calculation"
   ]
  },
  {
   "cell_type": "markdown",
   "id": "feeffe58-df13-4dae-ab7f-daa5708bc423",
   "metadata": {},
   "source": [
    "## User Interface"
   ]
  },
  {
   "cell_type": "markdown",
   "id": "2e1b79d1-08cd-4c06-a530-ea82635d68a5",
   "metadata": {
    "jp-MarkdownHeadingCollapsed": true,
    "tags": []
   },
   "source": [
    "## Formulas Used"
   ]
  },
  {
   "cell_type": "markdown",
   "id": "0c9d043b-579b-4b44-bd66-17b089cde1d1",
   "metadata": {},
   "source": []
  },
  {
   "cell_type": "markdown",
   "id": "f6766977-eb70-4bc9-aa36-35f0178a8bfd",
   "metadata": {},
   "source": []
  },
  {
   "cell_type": "markdown",
   "id": "3e82eb2d-63d3-4bc5-8085-fa1543f3e17c",
   "metadata": {},
   "source": []
  },
  {
   "cell_type": "markdown",
   "id": "8d81dc9f-64d3-4f43-b478-158bc67e689d",
   "metadata": {},
   "source": []
  },
  {
   "cell_type": "markdown",
   "id": "80344288-c361-4140-8fe1-b3d13594ac62",
   "metadata": {
    "jp-MarkdownHeadingCollapsed": true,
    "tags": []
   },
   "source": [
    "## Sources"
   ]
  },
  {
   "cell_type": "markdown",
   "id": "aa671668-d056-4fe8-84e6-6b8a4a053bfc",
   "metadata": {},
   "source": [
    "#### Example Audio File Credits\n",
    "    Song: Dimension \n",
    "    Creator: Creo \n",
    "    Youtube: https://www.youtube.com/channel/UCsCWA3Y3JppL6feQiMRgm6Q \n",
    "    Website: https://creo-music.com/track/dimension\n",
    "    Licensed under: https://creativecommons.org/licenses/by/4.0/"
   ]
  },
  {
   "cell_type": "markdown",
   "id": "0cd736b0-511e-4565-952d-ded187373455",
   "metadata": {},
   "source": [
    "#### Programming\n",
    "    https://ipywidgets.readthedocs.io/en/latest/examples/Using%20Interact.html\n",
    "    https://ipywidgets.readthedocs.io/en/latest/examples/Widget%20List.html\n",
    "    https://en.wikibooks.org/wiki/LaTeX/Mathematics"
   ]
  },
  {
   "cell_type": "markdown",
   "id": "dd6fac61-2d8c-49e1-8a90-7351f0e6e75f",
   "metadata": {},
   "source": [
    "#### Formulars and Documents for Audio\n",
    "    https://www.teachmeaudio.com/mixing/techniques/audio-spectrum#upper-midrange\n",
    "    https://sound.stackexchange.com/questions/14101/what-is-the-frequency-step-formula-for-10-and-31-band-eqs\n",
    "    http://www.sengpielaudio.com/calculator-octave.html\n",
    "    https://github.com/AllenDowney/ThinkDSP"
   ]
  },
  {
   "cell_type": "markdown",
   "id": "b1c0601a-a01b-409a-9b20-2f38cb97be04",
   "metadata": {},
   "source": [
    "#### Other Programms used\n",
    "    Music editing: Audacity\n",
    "    Music Download: https://github.com/yt-dlp/yt-dlp"
   ]
  },
  {
   "cell_type": "markdown",
   "id": "616fba56-f8ca-414c-9792-327007c14631",
   "metadata": {},
   "source": [
    "#### Special Thanks\n",
    "    https://www.senarclens.eu/~gerald/"
   ]
  },
  {
   "cell_type": "markdown",
   "id": "80bc8c85-8a51-48ab-b723-30dd03584ec9",
   "metadata": {
    "jp-MarkdownHeadingCollapsed": true,
    "tags": []
   },
   "source": [
    "## Programmer"
   ]
  },
  {
   "cell_type": "markdown",
   "id": "99a333aa-3431-4533-b9e9-61d9bb7bd8b1",
   "metadata": {
    "tags": []
   },
   "source": [
    "#### Programmed by Thomas Pail\n",
    "    GitHub: https://github.com/Tomaru-Pai"
   ]
  }
 ],
 "metadata": {
  "kernelspec": {
   "display_name": "Python 3 (ipykernel)",
   "language": "python",
   "name": "python3"
  },
  "language_info": {
   "codemirror_mode": {
    "name": "ipython",
    "version": 3
   },
   "file_extension": ".py",
   "mimetype": "text/x-python",
   "name": "python",
   "nbconvert_exporter": "python",
   "pygments_lexer": "ipython3",
   "version": "3.9.5"
  }
 },
 "nbformat": 4,
 "nbformat_minor": 5
}
