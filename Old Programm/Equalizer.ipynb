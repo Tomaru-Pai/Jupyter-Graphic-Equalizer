{
 "cells": [
  {
   "cell_type": "markdown",
   "id": "ad53273f-ec89-4b24-9669-a088f9965c44",
   "metadata": {
    "tags": []
   },
   "source": [
    "## Define Libraries and Values"
   ]
  },
  {
   "cell_type": "code",
   "execution_count": 1,
   "id": "504482fd-4a00-4c0c-9d4a-8479b1a13750",
   "metadata": {},
   "outputs": [],
   "source": [
    "import ipywidgets as widgets\n",
    "import thinkdsp as thinkdsp\n",
    "from thinkdsp import play_wave\n",
    "from thinkdsp import read_wave\n",
    "import math \n",
    "import wave\n",
    "import numpy as np\n",
    "import matplotlib.pyplot as plt\n",
    "\n",
    "# https://github.com/csteinmetz1/pyloudnorm\n",
    "# pip install pyloudnorm\n",
    "import pyloudnorm as pyln"
   ]
  },
  {
   "cell_type": "code",
   "execution_count": 2,
   "id": "523a2c67-ed75-45ca-a5c7-43def84dc32d",
   "metadata": {},
   "outputs": [],
   "source": [
    "Bands = 10 # Standard Band Count\n",
    "Controllrange = [-12, 12, 0] # [Decrease, Gain, Default] in dB\n",
    "EQBandmin = 5\n",
    "EQBandmax = 20\n",
    "EQstep = 5"
   ]
  },
  {
   "cell_type": "code",
   "execution_count": 3,
   "id": "fb6655cc-38f7-48e4-8a19-34fbe73c256c",
   "metadata": {},
   "outputs": [],
   "source": [
    "Text1 = widgets.Output()\n",
    "with Text1:\n",
    "    print(\"Choose your File, that you want to edit:\")\n",
    "    \n",
    "Text2 = widgets.Output()\n",
    "with Text2:\n",
    "    print(\"\\nChoose the focus of the EQ bandpass:\")\n",
    "    \n",
    "Text3 = widgets.Output()\n",
    "with Text3:\n",
    "    print(\"\\nChoose the EQ Slider Count:\")\n",
    "    \n",
    "Text4 = widgets.Output()\n",
    "with Text4:\n",
    "    print(\"\\nEqualizer:\")"
   ]
  },
  {
   "cell_type": "code",
   "execution_count": 4,
   "id": "87420422-9efc-4faf-a2a4-d7c05078813d",
   "metadata": {},
   "outputs": [],
   "source": [
    "# Generates Grid \n",
    "GraphicEQ = widgets.GridspecLayout(Bands, 1)"
   ]
  },
  {
   "cell_type": "code",
   "execution_count": 5,
   "id": "daf4ebee-c4c3-4fc6-afd1-04b1afb7c48b",
   "metadata": {},
   "outputs": [],
   "source": [
    "#Generates Freqspectrum for later use\n",
    "Freqspecturmf0 = [0,0,0,0,0,0,0,0,0,0,0,0,0,0,0,0,0,0,0,0,0] # Displayed Frequency on EQ \n",
    "Freqspecturmfl = [0,0,0,0,0,0,0,0,0,0,0,0,0,0,0,0,0,0,0,0] # Lower Frequency for EQ\n",
    "Freqspecturmfh = [0,0,0,0,0,0,0,0,0,0,0,0,0,0,0,0,0,0,0,0] # Higher Frequency for EQ\n",
    "#if SetFilterType == 'Bass':\n",
    "    #Freqspecturm = [1,2,3,4,5,6,7,8,9,10,11,12,13,14,15,16,17,18,19,20]\n",
    "#if SetFilterType == 'Mid':\n",
    "    #Freqspecturm = [21,22,23,24,25,26,27,28,29,30,31,32,33,34,35,36,37,38,39,40]"
   ]
  },
  {
   "cell_type": "markdown",
   "id": "96c42c66-a4fb-493e-8aab-9596f3a5a80c",
   "metadata": {
    "tags": []
   },
   "source": [
    "## Widgets"
   ]
  },
  {
   "cell_type": "code",
   "execution_count": 6,
   "id": "546cbd24-cb77-4b3f-85de-2e2e05763213",
   "metadata": {},
   "outputs": [],
   "source": [
    "# Upload a file\n",
    "#Upload = widgets.FileUpload()\n",
    "Upload = widgets.FileUpload(\n",
    "    accept='.wav',  # Accepted file extension e.g. '.txt', '.pdf', 'image/*', 'image/*,.pdf'\n",
    "    multiple=False,  # True to accept multiple files upload else False\n",
    "    tooltips=['Upload a .wav File to Edit it']\n",
    ")"
   ]
  },
  {
   "cell_type": "code",
   "execution_count": 7,
   "id": "0c2dfc19-8c7a-4f8f-bcd6-e0c05bfb03f7",
   "metadata": {},
   "outputs": [],
   "source": [
    "# Choose EQ Preset\n",
    "SetFilterType = widgets.ToggleButtons(\n",
    "    options=['Bass', 'Mid', 'High'],\n",
    "    disabled=False,\n",
    "    button_style='', # 'success', 'info', 'warning', 'danger' or ''\n",
    "    tooltips=['Focus on 200Hz', 'Focus on 1kHz', 'Focus on 4kHz']\n",
    ")"
   ]
  },
  {
   "cell_type": "code",
   "execution_count": 8,
   "id": "cdde105c-dc37-4cb3-85d9-540c348a474c",
   "metadata": {},
   "outputs": [],
   "source": [
    "# Choose Band Count\n",
    "ChooseBandCount = widgets.BoundedIntText(\n",
    "    value=Bands,\n",
    "    min=EQBandmin,\n",
    "    max=EQBandmax,\n",
    "    step=EQstep,\n",
    "    disabled=False\n",
    ")"
   ]
  },
  {
   "cell_type": "markdown",
   "id": "a420d5a5-e97f-4351-a24c-5efc590ec01b",
   "metadata": {
    "tags": []
   },
   "source": [
    "## Functions"
   ]
  },
  {
   "cell_type": "markdown",
   "id": "8b76e1aa-65cc-4275-ad19-91b607c3d082",
   "metadata": {
    "tags": []
   },
   "source": [
    "### Math Functions"
   ]
  },
  {
   "cell_type": "code",
   "execution_count": 9,
   "id": "c5733ce8-1131-4e11-8c8b-700c0f9aa858",
   "metadata": {},
   "outputs": [],
   "source": [
    "def returnbasefreq(SetFilterType, ChooseBandCount):\n",
    "    if (SetFilterType == 'Bass'):\n",
    "        f_base = 20\n",
    "    if (SetFilterType == 'Mid'):\n",
    "        f_base = 40\n",
    "    if (SetFilterType == 'High'):\n",
    "        f_base = 80\n",
    "    \n",
    "    f_base = f_base * (8/ChooseBandCount)\n",
    "        \n",
    "    return f_base"
   ]
  },
  {
   "cell_type": "code",
   "execution_count": 10,
   "id": "38d9ab4e-7320-4597-90e7-15fc7be84fcd",
   "metadata": {},
   "outputs": [],
   "source": [
    "def calculate_frequencies(SetFilterType, ChooseBandCount):\n",
    "    #resets values in Freqspecturm\n",
    "    Freqspecturmf0 = [0,0,0,0,0,0,0,0,0,0,0,0,0,0,0,0,0,0,0,0,0]\n",
    "    \n",
    "    # Select start frequency for calculation\n",
    "    f_base = int(returnbasefreq(SetFilterType, ChooseBandCount))\n",
    "    # Calculates Modulation Rate for n-Frequencies\n",
    "    f_mod = pow(2, 10 / ChooseBandCount)\n",
    "    \n",
    "    # Generates Freqspecturm for given Type and Bandcount\n",
    "    Freqspecturmf0[0] = f_base\n",
    "    \n",
    "    for i in range(1, ChooseBandCount+1):\n",
    "        Freqspecturmf0[i] = int(f_mod * Freqspecturmf0[i-1]) # int() Rounds Value to non decimal\n",
    "    \n",
    "    # print (Freqspecturm)\n",
    "    return Freqspecturmf0\n",
    "\n",
    "# SetFilterType = 'Mid'\n",
    "# ChooseBandCount = 20\n",
    "# calculate_frequencies(SetFilterType, ChooseBandCount)"
   ]
  },
  {
   "cell_type": "code",
   "execution_count": 11,
   "id": "04cf9ad0-5565-42f5-a2c9-6c285e4c15f6",
   "metadata": {},
   "outputs": [],
   "source": [
    "def calculate_frequencieslow(Freqspecturmf0, ChooseBandCount):\n",
    "    # For the value of fl[0] of f0[0] we need to calculate f0[-1], fortunatly because we dont need a highpass on the first EQ we can set fl[0] = 0\n",
    "    Freqspecturmfl = [0,0,0,0,0,0,0,0,0,0,0,0,0,0,0,0,0,0,0,0]\n",
    "    \n",
    "    Freqspecturmfl[0] = 0\n",
    "    \n",
    "    for i in range(1, ChooseBandCount):\n",
    "            Freqspecturmfl[i] = int(math.sqrt(Freqspecturmf0[i] * Freqspecturmf0[i-1]))\n",
    "    \n",
    "    return Freqspecturmfl"
   ]
  },
  {
   "cell_type": "code",
   "execution_count": 12,
   "id": "7fc57307-cfbe-47f5-9039-1c3b4341d650",
   "metadata": {},
   "outputs": [],
   "source": [
    "def calculate_frequencieshigh(Freqspecturmf0, ChooseBandCount):\n",
    "    # For the value of fh[n] of f0[n] we need to calculate f0[n+1]\n",
    "    Freqspecturmfh = [0,0,0,0,0,0,0,0,0,0,0,0,0,0,0,0,0,0,0,0]\n",
    "    \n",
    "    f_mod = pow(2, 10 / ChooseBandCount)\n",
    "    fnp1 = f_mod * Freqspecturmf0[ChooseBandCount]\n",
    "    \n",
    "    for i in range(0, ChooseBandCount):\n",
    "            Freqspecturmfh[i] = int(math.sqrt(Freqspecturmf0[i] * Freqspecturmf0[i+1]))\n",
    "    \n",
    "    return Freqspecturmfh"
   ]
  },
  {
   "cell_type": "markdown",
   "id": "559fca9a-4bf6-4072-be49-c39538d6ed5c",
   "metadata": {},
   "source": [
    "### Main Interact Function"
   ]
  },
  {
   "cell_type": "code",
   "execution_count": 24,
   "id": "1b352d96-daf3-48b5-97dd-fc549e882d49",
   "metadata": {},
   "outputs": [],
   "source": [
    "# Builds EQ \n",
    "def Build_Equalizer (SetFilterType, ChooseBandCount):\n",
    "    # print((SetFilterType))\n",
    "    # print((Bands))\n",
    "    \n",
    "    GraphicEQ = widgets.GridspecLayout(Bands, 1)\n",
    "    \n",
    "    #Calculates Freqspectrum with SetFilterType and ChooseBandCount\n",
    "    Freqspecturmf0 = calculate_frequencies(SetFilterType, ChooseBandCount)\n",
    "    # Calculates lower Frequencies of current Band\n",
    "    FreqspecturmfLow = calculate_frequencieslow(Freqspecturmf0, ChooseBandCount)\n",
    "    # Calculates Upper Frequencies of current Band\n",
    "    FreqspecturmfHigh = calculate_frequencieshigh(Freqspecturmf0, ChooseBandCount)\n",
    "        \n",
    "    # Generates EQ and Displays Values\n",
    "    slider = [widgets.IntSlider(\n",
    "        value=Controllrange[2],\n",
    "        min=Controllrange[0],\n",
    "        max=Controllrange[1],\n",
    "        step=1,\n",
    "        description=str(Freqspecturmf0[i])+' Hz',\n",
    "        disabled=False,\n",
    "        continuous_update=False,\n",
    "        orientation='vertical',\n",
    "        readout=True,\n",
    "        readout_format='d',\n",
    "        layout = widgets.Layout(width='50%'),\n",
    "    ) for i in range(int(ChooseBandCount))]\n",
    "    EQDisplay = widgets.Box(children=slider)\n",
    "    display(EQDisplay)\n",
    "    \n",
    "    \n",
    "    # Edit .wav file \n",
    "    #    1.) Make [ChooseBandCount] .wav copies\n",
    "    #    2.) Filter everyone of them (Bandpass with [FreqspecturmfLow, FreqspecturmfHigh] in dB\n",
    "    #    3.) Combine all temp files and create output.wav\n",
    "    \n",
    "    with open(\"TempAudio.wav\", \"w+b\") as i:\n",
    "        i.write(Upload.data[0])\n",
    "        \n",
    "    Upload.value.clear()\n",
    "    Upload._counter = 0\n",
    "    \n",
    "    wave = read_wave(\"TempAudio.wav\")\n",
    "    plot = wave.make_audio()\n",
    "    display(plot)\n",
    "    # display(FreqspecturmfLow, Freqspecturmf0, FreqspecturmfHigh)"
   ]
  },
  {
   "cell_type": "markdown",
   "id": "5b56ced4-d15e-4cd9-a044-98d2b295d52f",
   "metadata": {
    "tags": []
   },
   "source": [
    "## Display Programm Interface\n",
    "\n"
   ]
  },
  {
   "cell_type": "code",
   "execution_count": 25,
   "id": "47216510-a8c4-4ba7-8d6c-46663bc64fb5",
   "metadata": {},
   "outputs": [
    {
     "data": {
      "application/vnd.jupyter.widget-view+json": {
       "model_id": "f6a4834b788e4f5fba374d101681cb09",
       "version_major": 2,
       "version_minor": 0
      },
      "text/plain": [
       "VBox(children=(Output(outputs=({'name': 'stdout', 'text': 'Choose your File, that you want to edit:\\n', 'outpu…"
      ]
     },
     "metadata": {},
     "output_type": "display_data"
    },
    {
     "data": {
      "application/vnd.jupyter.widget-view+json": {
       "model_id": "e6c08820c68d4974a3b43d62c302f4bc",
       "version_major": 2,
       "version_minor": 0
      },
      "text/plain": [
       "Output()"
      ]
     },
     "metadata": {},
     "output_type": "display_data"
    }
   ],
   "source": [
    "# Combine and Format all Widgets\n",
    "UserInterface = widgets.VBox(children = [Text1, Upload, Text2, SetFilterType, Text3, ChooseBandCount, Text4])\n",
    "EQValues = widgets.interactive_output(Build_Equalizer, {'SetFilterType': SetFilterType, 'ChooseBandCount': ChooseBandCount})\n",
    "#FilterType = widgets.interactive_output(Calculate_Frequencies, {'SetFilterType': SetFilterType})\n",
    "\n",
    "# Outputs finished File\n",
    "# spectrum = wave.make_spectrum()\n",
    "# spectrum = spectrum.plot()\n",
    "\n",
    "display(UserInterface) # User Input\n",
    "display(EQValues) # Graphic Equalizer, which updates if changes are made\n",
    "# display(spectrum) # Shows Plot of edited Music file\n",
    "# display(wave.make_audio())"
   ]
  },
  {
   "cell_type": "markdown",
   "id": "3e435767-d959-477c-8ca6-159c27156aac",
   "metadata": {
    "tags": []
   },
   "source": [
    "## Sources"
   ]
  },
  {
   "cell_type": "markdown",
   "id": "25a53871-9995-4316-893c-635b513f01c6",
   "metadata": {
    "tags": []
   },
   "source": [
    "### Programmed by Thomas Pail\n",
    "    GitHub: https://github.com/Tomaru-Pai\n",
    "\n",
    "#### Example Audio File Credits\n",
    "    Song: Dimension \n",
    "    Creator: Creo \n",
    "    Youtube: https://www.youtube.com/channel/UCsCWA3Y3JppL6feQiMRgm6Q \n",
    "    Website: https://creo-music.com/track/dimension\n",
    "    Licensed under: https://creativecommons.org/licenses/by/4.0/\n",
    "\n",
    "#### Programming\n",
    "    https://ipywidgets.readthedocs.io/en/latest/examples/Using%20Interact.html\n",
    "    https://ipywidgets.readthedocs.io/en/latest/examples/Widget%20List.html\n",
    "    https://en.wikibooks.org/wiki/LaTeX/Mathematics\n",
    "\n",
    "#### Formulars and Documents for Audio\n",
    "    https://www.teachmeaudio.com/mixing/techniques/audio-spectrum#upper-midrange\n",
    "    https://sound.stackexchange.com/questions/14101/what-is-the-frequency-step-formula-for-10-and-31-band-eqs\n",
    "    http://www.sengpielaudio.com/calculator-octave.html\n",
    "    https://github.com/AllenDowney/ThinkDSP\n",
    "    \n",
    "#### Other Programms used\n",
    "    Music editing: Audacity\n",
    "    Music Download: https://github.com/yt-dlp/yt-dlp\n",
    "    \n",
    "#### Special Thanks\n",
    "    https://www.senarclens.eu/~gerald/\n",
    "    \n",
    "    "
   ]
  },
  {
   "cell_type": "markdown",
   "id": "54ca8de9-7e60-4039-85f5-3eb698e5787d",
   "metadata": {},
   "source": [
    "<br>Upload file\n",
    "<br>Split Audio into its Passes\n",
    "<br>Redo if EQ Mode is changed\n",
    "<br>\n",
    "<br>Display EQ Sliders\n",
    "<br>Combine Audio Parts back together\n",
    "<br>Display Output Plots\n",
    "<br>Dispay finished file"
   ]
  },
  {
   "cell_type": "markdown",
   "id": "f89936b7-7add-4777-bf81-5ee130606277",
   "metadata": {
    "tags": []
   },
   "source": [
    "## TestArea"
   ]
  },
  {
   "cell_type": "code",
   "execution_count": 15,
   "id": "ab5ebbe2-c12a-4538-a8b0-f125c9c61e32",
   "metadata": {},
   "outputs": [
    {
     "data": {
      "application/vnd.jupyter.widget-view+json": {
       "model_id": "32feb00f97774f5eb47ecc795fb5cd44",
       "version_major": 2,
       "version_minor": 0
      },
      "text/plain": [
       "HBox(children=(IntSlider(value=0), IntSlider(value=0), IntSlider(value=0)))"
      ]
     },
     "metadata": {},
     "output_type": "display_data"
    },
    {
     "data": {
      "application/vnd.jupyter.widget-view+json": {
       "model_id": "849bd22125f24857b4ede584a341cf50",
       "version_major": 2,
       "version_minor": 0
      },
      "text/plain": [
       "Output()"
      ]
     },
     "metadata": {},
     "output_type": "display_data"
    }
   ],
   "source": [
    "a = widgets.IntSlider()\n",
    "b = widgets.IntSlider()\n",
    "c = widgets.IntSlider()\n",
    "ui = widgets.HBox([a, b, c])\n",
    "def f(a, b, c):\n",
    "    print((a, b, c))\n",
    "\n",
    "out = widgets.interactive_output(f, {'a': a, 'b': b, 'c': c})\n",
    "\n",
    "display(ui, out)"
   ]
  },
  {
   "cell_type": "code",
   "execution_count": 16,
   "id": "f1a044cd-36bd-43df-b5f3-7c60b775eab2",
   "metadata": {},
   "outputs": [
    {
     "data": {
      "application/vnd.jupyter.widget-view+json": {
       "model_id": "d0a97f6a2d694443bc2303a37bb942ce",
       "version_major": 2,
       "version_minor": 0
      },
      "text/plain": [
       "interactive(children=(FloatSlider(value=0.0, description='x', max=10.0, step=0.05), FloatSlider(value=5.0, des…"
      ]
     },
     "metadata": {},
     "output_type": "display_data"
    }
   ],
   "source": [
    "x_widget = widgets.FloatSlider(min=0.0, max=10.0, step=0.05)\n",
    "y_widget = widgets.FloatSlider(min=0.5, max=10.0, step=0.05, value=5.0)\n",
    "\n",
    "def update_x_range(*args):\n",
    "    x_widget.max = 2.0 * y_widget.value\n",
    "y_widget.observe(update_x_range, 'value')\n",
    "\n",
    "def printer(x, y):\n",
    "    print(x, y)\n",
    "widgets.interact(printer,x=x_widget, y=y_widget);"
   ]
  },
  {
   "cell_type": "code",
   "execution_count": 17,
   "id": "b3ad5386-8ba7-4a8d-9972-38b4c3ad7217",
   "metadata": {},
   "outputs": [
    {
     "data": {
      "image/png": "[encoded data removed]",
      "text/plain": [
       "<Figure size 432x288 with 1 Axes>"
      ]
     },
     "metadata": {
      "needs_background": "light"
     },
     "output_type": "display_data"
    }
   ],
   "source": [
    "import wave\n",
    "import numpy as np\n",
    "import matplotlib.pyplot as plt\n",
    "\n",
    "signal_wave = wave.open('Example_Creo_Dimension.wav', 'r')\n",
    "sample_rate = 32000\n",
    "sig = np.frombuffer(signal_wave.readframes(sample_rate), dtype=np.int16)\n",
    "\n",
    "sig = sig[:]\n",
    "\n",
    "plt.figure(1)\n",
    "\n",
    "plot_b = plt.subplot(212)\n",
    "plot_b.specgram(sig, NFFT=1024, Fs=sample_rate, noverlap=900)\n",
    "plot_b.set_xlabel('Time')\n",
    "plot_b.set_ylabel('Frequency')\n",
    "\n",
    "plt.show()"
   ]
  },
  {
   "cell_type": "markdown",
   "id": "74fea66a-addc-4262-a59d-7fbbcbbbe655",
   "metadata": {
    "tags": []
   },
   "source": [
    "## Formulars and Notes"
   ]
  },
  {
   "cell_type": "markdown",
   "id": "9fa9d9ec-3f29-4948-961e-e91744ebc85f",
   "metadata": {},
   "source": [
    "For 10 Band EQ\n",
    "$\n",
    "f1 = lowerband\n",
    "\\newline\n",
    "f0 = Baseband\n",
    "\\newline\n",
    "f2 = upperband\n",
    "\\newline\n",
    "f1 = \\frac{f2}{2} = 0,5 * f2\n",
    "\\newline\n",
    "f2 = 2 * f1\n",
    "\\newline\n",
    "f0 = \\sqrt{f1*f2} = \\sqrt{2} * f1\n",
    "\\newline\n",
    "f1 - f2 = I * f0 = \n",
    "\\newline\n",
    "I = (\\sqrt{2} - \\frac{1}{\\sqrt{2}}) = \\frac{\\sqrt{2}}{2} = 0.707106781\n",
    "$\n",
    "\n",
    "10^((n+12)/10)"
   ]
  },
  {
   "cell_type": "raw",
   "id": "cc4a0807-4cc4-4579-998b-8548f5ab9618",
   "metadata": {},
   "source": [
    "B is the standard Frequency Value for a 10 Band Equalizer:\n",
    "for High: 50 Hz\n",
    "for Mid: 30 Hz\n",
    "for Low: 20 Hz\n",
    "These Frequencies were testet using Excel to ensure good Frequency variety \n",
    "\n",
    "Everything is working on an 1 Octave principle @ 10 Bands and is downsized or upsized according to the choosen bandcount\n",
    "\n",
    "M is the Modulation of the Frequency:\n",
    "M = 2^(10/BandCount)\n",
    "\n",
    "Calculate Base Frequency for given Band count:\n",
    "fbase = B * (10/BandCount)\n",
    "fn = M * f(n-1)\n",
    "\n",
    "Log. Mittelwert zweier Zahlen:\n",
    "f_lm = sqrt(fn + f(n+1))"
   ]
  },
  {
   "cell_type": "markdown",
   "id": "0dd458ef-8743-499c-b16e-797564baa257",
   "metadata": {},
   "source": [
    "## ToDoList"
   ]
  },
  {
   "cell_type": "raw",
   "id": "909bad3a-e2d0-4397-bcee-091f9d07b323",
   "metadata": {},
   "source": [
    "Make Frequency Arrays modular with EQBandmax"
   ]
  },
  {
   "cell_type": "code",
   "execution_count": 18,
   "id": "b451c7c6-ea82-4b18-a19f-175f549e3bf6",
   "metadata": {},
   "outputs": [
    {
     "data": {
      "application/vnd.jupyter.widget-view+json": {
       "model_id": "b52b7a5d6b174cf9bf9a3c8bba47e642",
       "version_major": 2,
       "version_minor": 0
      },
      "text/plain": [
       "FileUpload(value={}, description='Upload')"
      ]
     },
     "metadata": {},
     "output_type": "display_data"
    }
   ],
   "source": [
    "from ipywidgets import FileUpload\n",
    "upload = FileUpload()\n",
    "upload"
   ]
  },
  {
   "cell_type": "code",
   "execution_count": 19,
   "id": "f5a62c16-258b-4c66-8859-a96ab46cb7a0",
   "metadata": {},
   "outputs": [
    {
     "ename": "IndexError",
     "evalue": "list index out of range",
     "output_type": "error",
     "traceback": [
      "\u001b[1;31m---------------------------------------------------------------------------\u001b[0m",
      "\u001b[1;31mIndexError\u001b[0m                                Traceback (most recent call last)",
      "Input \u001b[1;32mIn [19]\u001b[0m, in \u001b[0;36m<cell line: 1>\u001b[1;34m()\u001b[0m\n\u001b[0;32m      1\u001b[0m \u001b[38;5;28;01mwith\u001b[39;00m \u001b[38;5;28mopen\u001b[39m(\u001b[38;5;124m\"\u001b[39m\u001b[38;5;124mTempAudio.wav\u001b[39m\u001b[38;5;124m\"\u001b[39m, \u001b[38;5;124m\"\u001b[39m\u001b[38;5;124mw+b\u001b[39m\u001b[38;5;124m\"\u001b[39m) \u001b[38;5;28;01mas\u001b[39;00m i:\n\u001b[1;32m----> 2\u001b[0m     i\u001b[38;5;241m.\u001b[39mwrite(\u001b[43mupload\u001b[49m\u001b[38;5;241;43m.\u001b[39;49m\u001b[43mdata\u001b[49m\u001b[43m[\u001b[49m\u001b[38;5;241;43m0\u001b[39;49m\u001b[43m]\u001b[49m)\n",
      "\u001b[1;31mIndexError\u001b[0m: list index out of range"
     ]
    }
   ],
   "source": [
    "with open(\"TempAudio.wav\", \"w+b\") as i:\n",
    "    i.write(upload.data[0])"
   ]
  },
  {
   "cell_type": "code",
   "execution_count": null,
   "id": "c29a6b22-5b0b-4e86-bf69-23be4cbf71da",
   "metadata": {},
   "outputs": [],
   "source": [
    "from pydub import AudioSegment\n",
    "\n",
    "song = AudioSegment.from_wav(\"Example_Creo_Dimension.wav\")\n",
    "\n",
    "# but let's make him *very* quiet\n",
    "song_10_db_quieter = song - 6\n",
    "\n",
    "# save the output\n",
    "song_10_db_quieter.export(\"TempAudio.wav\", \"wav\")\n",
    "\n",
    "wave2 = read_wave('Example_Creo_Dimension.wav')\n",
    "disp1 = wave2.make_audio()\n",
    "wave = read_wave('TempAudio.wav')\n",
    "disp2 = wave.make_audio()\n",
    "\n",
    "display(disp1, disp2)"
   ]
  },
  {
   "cell_type": "code",
   "execution_count": null,
   "id": "46c8de8c-bdec-4662-a5c3-e72832eb535c",
   "metadata": {},
   "outputs": [],
   "source": [
    "\n",
    "import wave, audioop\n",
    "\n",
    "factor = 0.01\n",
    "\n",
    "with wave.open('Example_Creo_Dimension.wav', 'rb') as wav:\n",
    "    p = wav.getparams()\n",
    "    with wave.open('Test.wav', 'wb') as audio:\n",
    "        audio.setparams(p)\n",
    "        frames = wav.readframes(p.nframes)\n",
    "        audio.writeframesraw( audioop.mul(frames, p.sampwidth, factor))\n",
    "\n",
    "wave2 = read_wave('Example_Creo_Dimension.wav')\n",
    "disp1 = wave2.make_audio()\n",
    "wave = read_wave('TempAudio.wav')\n",
    "disp2 = wave.make_audio()\n",
    "\n",
    "display(disp1, disp2)"
   ]
  },
  {
   "cell_type": "code",
   "execution_count": null,
   "id": "34629044-0071-4349-85d8-a1ace099fb6f",
   "metadata": {},
   "outputs": [],
   "source": [
    "import soundfile as sf\n",
    "import pyloudnorm as pyln\n",
    "from pydub import AudioSegment\n",
    "\n",
    "modulation = -12\n",
    "\n",
    "\n",
    "data, rate = sf.read(\"Example_Creo_Dimension.wav\") # load audio (with shape (samples, channels))\n",
    "print(data.shape)\n",
    "meter = pyln.Meter(rate) # create BS.1770 meter\n",
    "loudness = meter.integrated_loudness(data) # measure loudness\n",
    "print(loudness)\n",
    "# loudness normalize audio to -12 dB LUFS\n",
    "loudness_normalized_audio = pyln.normalize.loudness(data, loudness, -12)\n",
    "sf.write(\"TempAudio.wav\", loudness_normalized_audio, rate)\n",
    "\n",
    "song = AudioSegment.from_wav(\"TempAudio.wav\")\n",
    "\n",
    "# but let's make him *very* quiet\n",
    "song_10_db_quieter = song + modulation\n",
    "\n",
    "# save the output\n",
    "song_10_db_quieter.export(\"TempAudio.wav\", \"wav\")\n"
   ]
  },
  {
   "cell_type": "raw",
   "id": "ddcafb22-4c9f-4d36-883e-8eceb09721ea",
   "metadata": {},
   "source": [
    "## Generating EQ\n",
    ".) Updates Audio Processing every times it is updated\n",
    ".) Can give modulation Data of every Band into an array\n",
    ".) only updates after player has choosen Value (mouse press is released)\n",
    "\n",
    "## Audio Processing\n",
    "1.) Normalise Audio File to -12dB ( -Gain )\n",
    "2.) Make [BandCount] temp files of normalised \n",
    "3.) Loop for [BandCount] times\n",
    "    i)   Read [n] EQ-Gain Value\n",
    "    ii)  Get fl[n] and fh[n]\n",
    "    iii) Apply loudness change on EQ-Gain Value\n",
    "    iv)  Highpass Filter fl[n]\n",
    "    v)   Lowpass Filer with fh[n]\n",
    "4.) Merge all tempfiles together\n",
    "5.) Output Finished Audio File"
   ]
  },
  {
   "cell_type": "markdown",
   "id": "f9f78d13-2e25-4919-9f8c-ec7630a05623",
   "metadata": {},
   "source": [
    "### Installation Notes"
   ]
  },
  {
   "cell_type": "raw",
   "id": "0d5e0438-8573-4d82-9cba-fa91ffa2e816",
   "metadata": {},
   "source": [
    "pip install soundfile\n",
    "pip install pyloudnorm\n",
    "pip install pydub"
   ]
  },
  {
   "cell_type": "code",
   "execution_count": null,
   "id": "fd5efa4d-4443-47e6-9860-445d42e0c455",
   "metadata": {},
   "outputs": [],
   "source": [
    "a = widgets.IntSlider(description=\"Delayed\", continuous_update=False)\n",
    "b = widgets.IntText(description=\"Delayed\", continuous_update=False)\n",
    "c = widgets.IntSlider(description=\"Continuous\", continuous_update=True)\n",
    "d = widgets.IntText(description=\"Continuous\", continuous_update=True)\n",
    "\n",
    "widgets.link((a, 'value'), (b, 'value'))\n",
    "widgets.link((a, 'value'), (c, 'value'))\n",
    "widgets.link((a, 'value'), (d, 'value'))\n",
    "widgets.VBox([a,b,c,d])"
   ]
  },
  {
   "cell_type": "code",
   "execution_count": null,
   "id": "319a6f1a-7bb1-4893-a586-a6c8bd773d9b",
   "metadata": {},
   "outputs": [],
   "source": [
    "# Value is the dB Value that the file will be normalised with\n",
    "# void function: Overrides [FileName] File\n",
    "\n",
    "FileName = \"Upload.wav\" # Name of saved uploaded file\n",
    "\n",
    "def Normalise_Audio (FileName, Normalise):\n",
    "    # Load Audio File as shape(data, wave)\n",
    "    data, rate = sf.read(FileName)\n",
    "\n",
    "    # Initiolising loudness Meter by BS.1770 standart \n",
    "    meter = pyln.Meter(rate) \n",
    "    # measure loudness in dB\n",
    "    loudness = meter.integrated_loudness(data)\n",
    "    \n",
    "    # loudness normalize audio to [Normalise] dB LUFS\n",
    "    loudness_normalized_audio = pyln.normalize.loudness(data, loudness, Normalise)\n",
    "    sf.write(FileName, loudness_normalized_audio, rate)"
   ]
  },
  {
   "cell_type": "code",
   "execution_count": null,
   "id": "84e642dd-eb91-47ca-acaf-a7b7013538f4",
   "metadata": {},
   "outputs": [],
   "source": [
    "# Overwrites [n] temp Audio File\n",
    "# Filename is the current edited Bandpass\n",
    "# Gain is the current used Gain value of said bandpass\n",
    "\n",
    "def Bandpass_Filter (FileName, n, Gain, fl, fh):\n",
    "    # Load Audio File\n",
    "    wave = read_wave(FileName + string(n) + \".wav\")\n",
    "    # Lowpass filter with fh\n",
    "    spectrum.low_pass(fh)\n",
    "    # Highpass filter with fl\n",
    "    spectrum.high_pass(fl)\n",
    "    # Overrides Temp Audio File\n",
    "    with open(FileName + string(n) + \".wav\", \"w+b\") as edit:\n",
    "        edit.write(wave)"
   ]
  },
  {
   "cell_type": "code",
   "execution_count": null,
   "id": "059346ee-6312-45b9-a8d7-520e9abb33cb",
   "metadata": {},
   "outputs": [],
   "source": [
    "# Overlaps several AudioFiles which have the same base name + and adressing Number + \".wav\"\n",
    "# Example \"FilterTemp\" + string(n) + \".wav\" starting from 0 to Bandpasscount-1\n",
    "# FileName must not contail \".wav\" !!!\n",
    "# FileType is the file ending, for example \".wav\"\n",
    "# FinishedFileName is the Filename which the Audio will be saved. Must contain Filename+\".wav\"\n",
    "\n",
    "def Build_Audio (FileName, BandpassCount, FileType, FinishedFileName):\n",
    "    # Load first Adio file\n",
    "    fullaudio = AudioSegment.from_wav(FileName + \"0\" + FileType)\n",
    "    # Generates loop\n",
    "    for i in range(0, ChooseBandCount-1):\n",
    "        # import current file\n",
    "        temp = AudioSegment.from_wav(FileName + string(ChooseBandCount) + \".wav\")\n",
    "        # Overlays fullaudio with new generated wave file\n",
    "        fullaudio = fullaudio.overlay(temp)\n",
    "\n",
    "    # Saves fullaudio\n",
    "    fullaudio.export(FinishedFileName, \".wav\")\n",
    "    \n",
    "    \n",
    "    # Deletes temp Files (optional)"
   ]
  },
  {
   "cell_type": "code",
   "execution_count": null,
   "id": "1f116e9d-fe48-471f-8462-19651687283d",
   "metadata": {},
   "outputs": [],
   "source": [
    "# Generates Temp Copies for Processing every single Band\n",
    "# File Name is the UploadFile Name\n",
    "# FileName must not contail \".wav\" !!!\n",
    "\n",
    "def Generate_Copies(FileName, BandpassCount):\n",
    "    for i in range(0, ChooseBandCount-1):\n",
    "        FileName.export(FinishedFileName + string(ChooseBandCount) + \".wav\", \"wav\")"
   ]
  },
  {
   "cell_type": "raw",
   "id": "295636df-313b-476c-a9f2-00302d78622a",
   "metadata": {},
   "source": [
    "Test Area"
   ]
  },
  {
   "cell_type": "code",
   "execution_count": null,
   "id": "a9ae4165-1363-4770-9f62-ee11443fdaed",
   "metadata": {},
   "outputs": [],
   "source": [
    "from os.path import dirname, join as pjoin\n",
    "from scipy.io import wavfile\n",
    "import scipy.io\n",
    "from scipy.signal import butter, sosfilt, sosfreqz\n",
    "\n",
    "wave = wavfile.read('Example_Creo_Dimension.wav')\n",
    "# wave = wavfile.read('Example_Creo_Dimension.wav')\n",
    "\n",
    "def butter_bandpass(lowcut, highcut, fs, order = 5):\n",
    "        nyq = 0.5 * fs\n",
    "        low = lowcut / nyq\n",
    "        high = highcut / nyq\n",
    "        sos = butter(order, [low, high], analog=False, btype='band', output='sos')\n",
    "        return sos\n",
    "\n",
    "def butter_bandpass_filter(data, lowcut, highcut, fs, order=5):\n",
    "        sos = butter_bandpass(lowcut, highcut, fs, order=order)\n",
    "        y = sosfilt(sos, data)\n",
    "        return y\n",
    "    \n",
    "wave2 = butter_bandpass_filter(wave, 1000, 2000, 48000, 5)"
   ]
  },
  {
   "cell_type": "code",
   "execution_count": null,
   "id": "a93aebd1-8c56-4390-8619-462000f2c229",
   "metadata": {},
   "outputs": [],
   "source": []
  }
 ],
 "metadata": {
  "kernelspec": {
   "display_name": "Python 3 (ipykernel)",
   "language": "python",
   "name": "python3"
  },
  "language_info": {
   "codemirror_mode": {
    "name": "ipython",
    "version": 3
   },
   "file_extension": ".py",
   "mimetype": "text/x-python",
   "name": "python",
   "nbconvert_exporter": "python",
   "pygments_lexer": "ipython3",
   "version": "3.9.5"
  }
 },
 "nbformat": 4,
 "nbformat_minor": 5
}
