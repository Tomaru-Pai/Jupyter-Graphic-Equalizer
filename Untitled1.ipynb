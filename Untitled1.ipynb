{
 "cells": [
  {
   "cell_type": "code",
   "execution_count": null,
   "id": "2a9f842e-c173-419a-bab5-80caad77aab5",
   "metadata": {},
   "outputs": [],
   "source": [
    "import numpy as np\n",
    "import ipywidgets as widgets\n",
    "import matplotlib as matplot\n",
    "\n",
    "\n",
    "SetupMode = [\"Bass\", \"Mid\", \"High\"]\n",
    "Controllrange = [-12, 12, 0]\n",
    "Bands = 20"
   ]
  },
  {
   "cell_type": "code",
   "execution_count": null,
   "id": "95ed037a-b8c0-42ce-9674-43e74699be48",
   "metadata": {},
   "outputs": [],
   "source": [
    "def Equalizer (audiofile):\n",
    "    "
   ]
  },
  {
   "cell_type": "code",
   "execution_count": 2,
   "id": "a1de9e87-2c71-4770-b172-33aa0bf3fa31",
   "metadata": {},
   "outputs": [
    {
     "data": {
      "application/vnd.jupyter.widget-view+json": {
       "model_id": "128122c196544cfeab0ec81f4f6e1600",
       "version_major": 2,
       "version_minor": 0
      },
      "text/plain": [
       "interactive(children=(IntSlider(value=50, description='x'), Output()), _dom_classes=('widget-interact',))"
      ]
     },
     "metadata": {},
     "output_type": "display_data"
    },
    {
     "data": {
      "application/vnd.jupyter.widget-view+json": {
       "model_id": "c289226ef0a7462fba2e59f7ec40c814",
       "version_major": 2,
       "version_minor": 0
      },
      "text/plain": [
       "interactive(children=(IntSlider(value=5, description='y', max=10), Output()), _dom_classes=('widget-interact',…"
      ]
     },
     "metadata": {},
     "output_type": "display_data"
    }
   ],
   "source": [
    "from ipywidgets import interact\n",
    "# use interact decorator to decorate the function, so the function can receive the slide bar's value with parameter x.\n",
    "@interact(x=(0, 100))\n",
    "def double_number(x):\n",
    "    print(\"The double of %d is %d.\" % (x, x*2))\n",
    "    \n",
    "# add another slide bar to this function with the interact decorator.    \n",
    "@interact(y=(0, 10), orientation='vertical')\n",
    "def square_number(y):\n",
    "    print(\"The square of %d is %d.\" % (y, y**2))"
   ]
  },
  {
   "cell_type": "code",
   "execution_count": 3,
   "id": "23ea8c5b-dc37-47a9-a0ad-c54d207af3d2",
   "metadata": {},
   "outputs": [
    {
     "data": {
      "application/vnd.jupyter.widget-view+json": {
       "model_id": "f592993f68ce430b839465bc5ee1c667",
       "version_major": 2,
       "version_minor": 0
      },
      "text/plain": [
       "Dropdown(description='platform', options=('iPhone', 'iPad', 'Android'), value='iPhone')"
      ]
     },
     "metadata": {},
     "output_type": "display_data"
    },
    {
     "data": {
      "application/vnd.jupyter.widget-view+json": {
       "model_id": "296684e472804eaa96902d2eb5e0bc42",
       "version_major": 2,
       "version_minor": 0
      },
      "text/plain": [
       "Text(value='open', description='Test Event')"
      ]
     },
     "metadata": {},
     "output_type": "display_data"
    },
    {
     "data": {
      "application/vnd.jupyter.widget-view+json": {
       "model_id": "09207ab6e2b44219aab4e1cba4c3cba2",
       "version_major": 2,
       "version_minor": 0
      },
      "text/plain": [
       "Text(value='iOS9', description='Operating System')"
      ]
     },
     "metadata": {},
     "output_type": "display_data"
    },
    {
     "data": {
      "application/vnd.jupyter.widget-view+json": {
       "model_id": "9066d4197b8d42ef9b1e63abf8b83f58",
       "version_major": 2,
       "version_minor": 0
      },
      "text/plain": [
       "Checkbox(value=False, description='Force Refresh')"
      ]
     },
     "metadata": {},
     "output_type": "display_data"
    }
   ],
   "source": [
    "from ipywidgets import widgets\n",
    "from IPython.display import Javascript, display\n",
    "\n",
    "align_kw = dict(\n",
    "    _css = (('.widget-label', 'min-width', '20ex'),),\n",
    "    margin = '0px 0px 5px 12px'\n",
    ")\n",
    "platform_ui = widgets.Dropdown(description = 'platform',options=['iPhone','iPad','Android'], **align_kw)\n",
    "event_type_ui = widgets.Text(value='open', description='Test Event', **align_kw)\n",
    "os_version_ui = widgets.Text(value='iOS9', description='Operating System', **align_kw)\n",
    "refresh_ui = widgets.Checkbox(description='Force Refresh', **align_kw)\n",
    "\n",
    "display(platform_ui,event_type_ui,os_version_ui,refresh_ui)"
   ]
  },
  {
   "cell_type": "code",
   "execution_count": null,
   "id": "252ece1b-7709-4ac1-9dc4-378e812474bd",
   "metadata": {},
   "outputs": [],
   "source": []
  }
 ],
 "metadata": {
  "kernelspec": {
   "display_name": "Python 3 (ipykernel)",
   "language": "python",
   "name": "python3"
  },
  "language_info": {
   "codemirror_mode": {
    "name": "ipython",
    "version": 3
   },
   "file_extension": ".py",
   "mimetype": "text/x-python",
   "name": "python",
   "nbconvert_exporter": "python",
   "pygments_lexer": "ipython3",
   "version": "3.9.5"
  }
 },
 "nbformat": 4,
 "nbformat_minor": 5
}
