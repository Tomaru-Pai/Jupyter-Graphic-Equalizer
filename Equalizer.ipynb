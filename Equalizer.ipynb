{
 "cells": [
  {
   "cell_type": "markdown",
   "id": "9936c010-f7ef-4f2e-878c-598e249329f6",
   "metadata": {
    "tags": []
   },
   "source": [
    "## Libraries"
   ]
  },
  {
   "cell_type": "markdown",
   "id": "a796e435-6b05-4065-8bc4-8c6dbe90af19",
   "metadata": {},
   "source": [
    "#### Python Integrated or in Folder"
   ]
  },
  {
   "cell_type": "code",
   "execution_count": 1,
   "id": "71cfd58d-3241-4527-89cc-6bafe1048c8a",
   "metadata": {},
   "outputs": [
    {
     "name": "stderr",
     "output_type": "stream",
     "text": [
      "C:\\Users\\zeras\\AppData\\Local\\Programs\\Python\\Python310\\lib\\site-packages\\pydub\\utils.py:170: RuntimeWarning: Couldn't find ffmpeg or avconv - defaulting to ffmpeg, but may not work\n",
      "  warn(\"Couldn't find ffmpeg or avconv - defaulting to ffmpeg, but may not work\", RuntimeWarning)\n"
     ]
    }
   ],
   "source": [
    "import ipywidgets as widgets\n",
    "import thinkdsp as thinkdsp\n",
    "from thinkdsp import play_wave\n",
    "from thinkdsp import read_wave\n",
    "import math \n",
    "import soundfile as sf\n",
    "import pyloudnorm as pyln\n",
    "from pydub import AudioSegment\n",
    "import spectrum"
   ]
  },
  {
   "cell_type": "markdown",
   "id": "ff0f1413-afc4-49b4-9b57-367d9d2a26bd",
   "metadata": {
    "tags": []
   },
   "source": [
    "#### Require Installation"
   ]
  },
  {
   "cell_type": "markdown",
   "id": "24d15b78-1c91-4a2c-b97e-efeabb6de462",
   "metadata": {},
   "source": [
    "##### Enter these commands into your terminal:\n",
    "    pip install soundfile\n",
    "    pip install pyloudnorm\n",
    "    pip install pydub\n",
    "    pip install spectrum"
   ]
  },
  {
   "cell_type": "code",
   "execution_count": null,
   "id": "87c9e578-39fe-4374-ac5d-e79d80830fcd",
   "metadata": {},
   "outputs": [],
   "source": []
  },
  {
   "cell_type": "markdown",
   "id": "7018d082-25df-40c6-8acc-3315e54fff7f",
   "metadata": {
    "tags": []
   },
   "source": [
    "## Variables"
   ]
  },
  {
   "cell_type": "markdown",
   "id": "558b30b3-3e69-47c7-8afc-ebfcb25fe7fa",
   "metadata": {
    "tags": []
   },
   "source": [
    "#### NOT Recommended for change"
   ]
  },
  {
   "cell_type": "code",
   "execution_count": 2,
   "id": "e53ebb5c-edc8-4f9f-a804-d7d7f5459df3",
   "metadata": {},
   "outputs": [],
   "source": [
    "ChooseBandCount = 10 # Standard Band Count\n",
    "Controllrange = [-12, 12, 0] # [Decrease, Gain, Default] in dB\n",
    "EQBandmin = 5\n",
    "EQBandmax = 20\n",
    "EQstep = 5\n",
    "ConfigBandCount = 21"
   ]
  },
  {
   "cell_type": "code",
   "execution_count": 3,
   "id": "c3150528-58dc-4e3d-93cc-32883789c8a1",
   "metadata": {},
   "outputs": [],
   "source": [
    "Freqspecturmf0 = [16,32,64,128,256,512,1024,2048,4096,8192,0,0,0,0,0,0,0,0,0,0,0] # Displayed Frequency on EQ \n",
    "Freqspecturmfl = [0]*EQBandmax # Lower Frequency for EQ\n",
    "Freqspecturmfh = [0]*EQBandmax # Higher Frequency for EQ"
   ]
  },
  {
   "cell_type": "code",
   "execution_count": 4,
   "id": "2df1f433-4e4a-4cf8-afaa-45e45b25f798",
   "metadata": {},
   "outputs": [],
   "source": [
    "# Generates Grid for EQ\n",
    "# EQDisplay = widgets.GridspecLayout(ChooseBandCount, 1)"
   ]
  },
  {
   "cell_type": "markdown",
   "id": "39965b25-c8a6-4a24-911c-f653413132b8",
   "metadata": {
    "tags": []
   },
   "source": [
    "#### Recommended for change"
   ]
  },
  {
   "cell_type": "code",
   "execution_count": 5,
   "id": "506ef3c7-b62f-42ad-9f3d-3a943ba35d2b",
   "metadata": {
    "tags": []
   },
   "outputs": [],
   "source": [
    "Text1 = widgets.Output()\n",
    "with Text1:\n",
    "    print(\"Choose your File, that you want to edit:\")\n",
    "    \n",
    "Text2 = widgets.Output()\n",
    "with Text2:\n",
    "    print(\"\\nChoose the focus of the EQ bandpass:\")\n",
    "    \n",
    "Text3 = widgets.Output()\n",
    "with Text3:\n",
    "    print(\"\\nChoose the EQ Slider Count:\")\n",
    "    \n",
    "Text4 = widgets.Output()\n",
    "with Text4:\n",
    "    print(\"\\nEqualizer:\")\n",
    "    \n",
    "Text5 = widgets.Output()\n",
    "with Text5:\n",
    "    print(\"\\nFinished Audio File:\")"
   ]
  },
  {
   "cell_type": "code",
   "execution_count": 6,
   "id": "2cf429a3-855e-47c9-bc6b-27d017e2e795",
   "metadata": {},
   "outputs": [],
   "source": [
    "UploadFileName = \"Upload\"\n",
    "TempFileName = \"TempFile\"\n",
    "FileFormat = \".wav\"\n",
    "FinishedFileName = \"Output.wav\"\n",
    "CloneFileName = \"Band\""
   ]
  },
  {
   "cell_type": "markdown",
   "id": "e3f0209a-47d9-4d12-ac00-8feb48c56e6f",
   "metadata": {
    "tags": []
   },
   "source": [
    "## Functions"
   ]
  },
  {
   "cell_type": "markdown",
   "id": "0ffd8cec-1c41-443f-bda0-80fb7808f8f1",
   "metadata": {
    "jp-MarkdownHeadingCollapsed": true,
    "tags": []
   },
   "source": [
    "##### Generates EQ UI"
   ]
  },
  {
   "cell_type": "code",
   "execution_count": 7,
   "id": "47ad03ad-ea68-40f7-b03f-2fb4940b095f",
   "metadata": {},
   "outputs": [],
   "source": [
    "def Build_EQ (ChooseBandCount, Freqspecturmf0):\n",
    "    \n",
    "    slider = [0] * ChooseBandCount\n",
    "    \n",
    "    for i in range(ChooseBandCount):\n",
    "        slider[i] = widgets.IntSlider(\n",
    "           value=Controllrange[2],\n",
    "            min=Controllrange[0],\n",
    "            max=Controllrange[1],\n",
    "            step=1,\n",
    "            description=str(Freqspecturmf0[i])+' Hz',\n",
    "            disabled=False,\n",
    "            continuous_update=False,\n",
    "            orientation='vertical',\n",
    "            readout=True,\n",
    "            readout_format='d',\n",
    "            layout = widgets.Layout(width='50%')\n",
    "        )\n",
    "        \n",
    "        # print(slider[i].value)\n",
    "    \n",
    "    # Box = widgets.HBox(slider)\n",
    "    # EQDisplay = Accordian(children=[Box])\n",
    "    \n",
    "    # EQDisplay = widgets.HBox(slider)\n",
    "    \n",
    "    # EQDisplay = widgets.Box(children = slider)\n",
    "    \n",
    "    # display(EQDisplay)\n",
    "    return slider\n",
    "    # return slider"
   ]
  },
  {
   "cell_type": "code",
   "execution_count": 8,
   "id": "b23d66df-61d4-4766-960b-7e286327bcd2",
   "metadata": {},
   "outputs": [],
   "source": [
    "# EQDisplay = Build_EQ(ChooseBandCount, Freqspecturmf0)"
   ]
  },
  {
   "cell_type": "code",
   "execution_count": 9,
   "id": "75c0f386-4981-4127-8b49-6aedd4169f45",
   "metadata": {},
   "outputs": [],
   "source": [
    "# def Test (EQDisplay):\n",
    "#   print(EQDisplay[0].value)\n",
    "#   print(\"Test\")"
   ]
  },
  {
   "cell_type": "code",
   "execution_count": 10,
   "id": "90d561fd-d504-42fb-aab4-99b0e7aff243",
   "metadata": {},
   "outputs": [],
   "source": [
    "# EQDisplay = Build_EQ(ChooseBandCount, Freqspecturmf0)\n",
    "# ShowEQDisplay = widgets.Box(children = EQDisplay)\n",
    "\n",
    "# display(ShowEQDisplay)\n",
    "#Equalizer = widgets.interact(Test, EQDisplay = widgets.fixed(EQDisplay))\n",
    "#Equalizer = widgets.interactive_output(Test, {'EQDisplay': widgets.fixed(ShowEQDisplay)})"
   ]
  },
  {
   "cell_type": "code",
   "execution_count": 11,
   "id": "418b9641-f66f-4d6b-a965-ed26a42df371",
   "metadata": {},
   "outputs": [],
   "source": [
    "# print(EQDisplay.slider[0].value)"
   ]
  },
  {
   "cell_type": "code",
   "execution_count": 12,
   "id": "c21460cc-245d-4b64-a6be-fdc5cef54e4f",
   "metadata": {},
   "outputs": [],
   "source": [
    "# SaveValue = [0]*ChooseBandCount\n",
    "\n",
    "# for i in range(ChooseBandCount):\n",
    "#    SaveValue[i] = EQDisplay[i].value\n",
    "\n",
    "# print(SaveValue)"
   ]
  },
  {
   "cell_type": "markdown",
   "id": "a3d40638-dbce-45ee-abb5-b2574f58e468",
   "metadata": {
    "jp-MarkdownHeadingCollapsed": true,
    "tags": []
   },
   "source": [
    "##### Calculating Base Frequency of choosen Type of EQ "
   ]
  },
  {
   "cell_type": "code",
   "execution_count": 13,
   "id": "ca5237a5-aaf0-4d0a-8151-9575dc964e60",
   "metadata": {},
   "outputs": [],
   "source": [
    "def returnbasefreq(SetFilterType, ChooseBandCount):\n",
    "    # Scans input of choosen Type of EQ and gives back predefined start Frequencies for an 8 Band EQ\n",
    "    if (SetFilterType == 'Bass'):\n",
    "        f_base = 20\n",
    "    if (SetFilterType == 'Mid'):\n",
    "        f_base = 40\n",
    "    if (SetFilterType == 'High'):\n",
    "        f_base = 80\n",
    "    \n",
    "    # Modulates Frequency depending on difference between 8 / ChoosenBand\n",
    "    f_base = f_base * (8/ChooseBandCount)\n",
    "        \n",
    "    return f_base"
   ]
  },
  {
   "cell_type": "markdown",
   "id": "7dcdb850-eafd-4dd2-91ae-6306fcac890c",
   "metadata": {
    "jp-MarkdownHeadingCollapsed": true,
    "tags": []
   },
   "source": [
    "##### Calculates Base Frequencies that are displayed on EQ"
   ]
  },
  {
   "cell_type": "code",
   "execution_count": 14,
   "id": "6cf0eb2b-410d-4814-a4bb-39deb827c5eb",
   "metadata": {},
   "outputs": [],
   "source": [
    "def calculate_frequencies(SetFilterType, ChooseBandCount):\n",
    "    #resets values in Freqspecturm\n",
    "    Freqspecturmf0 = [0] * (EQBandmax+1) # Clears all values that were precalculatet\n",
    "    \n",
    "    # Select start frequency for calculation\n",
    "    f_base = int(returnbasefreq(SetFilterType, ChooseBandCount))\n",
    "    # Calculates Modulation Rate for n-Frequencies\n",
    "    f_mod = pow(2, 10 / ChooseBandCount)\n",
    "    \n",
    "    # Generates Freqspecturm for given Type and Bandcount\n",
    "    Freqspecturmf0[0] = f_base\n",
    "    \n",
    "    for i in range(1, ChooseBandCount+1):\n",
    "        Freqspecturmf0[i] = int(f_mod * Freqspecturmf0[i-1]) # int() Rounds Value to non decimal\n",
    "    \n",
    "    # print (Freqspecturm)\n",
    "    return Freqspecturmf0\n",
    "\n",
    "# SetFilterType = 'Mid'\n",
    "# ChooseBandCount = 20\n",
    "# calculate_frequencies(SetFilterType, ChooseBandCount)"
   ]
  },
  {
   "cell_type": "markdown",
   "id": "67753367-c35c-4ec5-afcd-b1030bfc5681",
   "metadata": {
    "jp-MarkdownHeadingCollapsed": true,
    "tags": []
   },
   "source": [
    "##### Calculates log average of f0[n] and f0[n-1]"
   ]
  },
  {
   "cell_type": "code",
   "execution_count": 15,
   "id": "04b6c203-899a-4a16-94e9-134a59e19600",
   "metadata": {},
   "outputs": [],
   "source": [
    "def calculate_frequencieslow(Freqspecturmf0, ChooseBandCount):\n",
    "    # For the value of fl[0] of f0[0] we need to calculate f0[-1], fortunatly because we dont need a highpass on the first EQ we can set fl[0] = 0\n",
    "    Freqspecturmfl = [0]*EQBandmax # Clears all values that were precalculatet\n",
    "    \n",
    "    Freqspecturmfl[0] = 0\n",
    "    \n",
    "    for i in range(1, ChooseBandCount):\n",
    "            Freqspecturmfl[i] = int(math.sqrt(Freqspecturmf0[i] * Freqspecturmf0[i-1]))\n",
    "    \n",
    "    return Freqspecturmfl"
   ]
  },
  {
   "cell_type": "markdown",
   "id": "0b807a58-9727-46a9-99c1-aeda4a400e72",
   "metadata": {
    "jp-MarkdownHeadingCollapsed": true,
    "tags": []
   },
   "source": [
    "##### Calculates log average of f0[n] and f0[n+1]"
   ]
  },
  {
   "cell_type": "code",
   "execution_count": 16,
   "id": "155c1122-b1a7-4896-8bd0-ca427dd7a39f",
   "metadata": {},
   "outputs": [],
   "source": [
    "def calculate_frequencieshigh(Freqspecturmf0, ChooseBandCount):\n",
    "    # For the value of fh[n] of f0[n] we need to calculate f0[n+1]\n",
    "    Freqspecturmfh = [0]*EQBandmax # Clears all values that were precalculatet\n",
    "    \n",
    "    f_mod = pow(2, 10 / ChooseBandCount)\n",
    "    fnp1 = f_mod * Freqspecturmf0[ChooseBandCount]\n",
    "    \n",
    "    for i in range(0, ChooseBandCount):\n",
    "            Freqspecturmfh[i] = int(math.sqrt(Freqspecturmf0[i] * Freqspecturmf0[i+1]))\n",
    "    \n",
    "    return Freqspecturmfh"
   ]
  },
  {
   "cell_type": "markdown",
   "id": "baa14498-ccb3-46d7-b612-cb78e4488a96",
   "metadata": {
    "jp-MarkdownHeadingCollapsed": true,
    "tags": []
   },
   "source": [
    "##### Normalising Audio"
   ]
  },
  {
   "cell_type": "code",
   "execution_count": 17,
   "id": "aa8d70af-2c93-4da8-b32f-719628dc8f88",
   "metadata": {},
   "outputs": [],
   "source": [
    "# Value is the dB Value that the file will be normalised with\n",
    "# void function: Overrides [FileName] File\n",
    "\n",
    "def Normalise_Audio (FileName, FileFormat, Normalise):\n",
    "    # Load Audio File as shape(data, wave)\n",
    "    data, rate = sf.read(\"Upload.wav\")\n",
    "\n",
    "    # Initiolising loudness Meter by BS.1770 standart \n",
    "    meter = pyln.Meter(rate) \n",
    "    # measure loudness in dB\n",
    "    loudness = meter.integrated_loudness(data)\n",
    "    \n",
    "    # loudness normalize audio to [Normalise] dB LUFS\n",
    "    loudness_normalized_audio = pyln.normalize.loudness(data, loudness, Normalise)\n",
    "    sf.write(FileName + FileFormat, loudness_normalized_audio, rate)"
   ]
  },
  {
   "cell_type": "markdown",
   "id": "2b16c5e4-aa19-4aab-af3e-b29651d11ef0",
   "metadata": {
    "tags": []
   },
   "source": [
    "##### Generating temporary files"
   ]
  },
  {
   "cell_type": "code",
   "execution_count": 18,
   "id": "690f36d0-4a69-43b7-9655-b5146d5209b4",
   "metadata": {},
   "outputs": [],
   "source": [
    "# Generates Temp Copies for Processing every single Band\n",
    "# File Name is the UploadFile Name\n",
    "# FileName must not contail \".wav\" !!!\n",
    "\n",
    "def Generate_Copies(FileName, FileFormat, BandpassCount):\n",
    "    # import Upload File\n",
    "    wave = AudioSegment.from_wav(\"Upload.wav\")\n",
    "    \n",
    "    for i in range(0, ChooseBandCount):\n",
    "        wave.export(CloneFileName + str(i) + FileFormat, \"wav\")"
   ]
  },
  {
   "cell_type": "markdown",
   "id": "1361ff66-639a-4578-820b-2decaaad6bf6",
   "metadata": {
    "tags": []
   },
   "source": [
    "##### Bandpass Filter "
   ]
  },
  {
   "cell_type": "code",
   "execution_count": 37,
   "id": "04ee5416-2b20-4176-bdbb-de092c2e5cb5",
   "metadata": {},
   "outputs": [],
   "source": [
    "# Overwrites [n] temp Audio File\n",
    "# Filename is the current edited Bandpass\n",
    "# Gain is the current used Gain value of said bandpass\n",
    "\n",
    "def Bandpass_Filter (FileName, FileFormat, n, Gain, fl, fh):\n",
    "    # Load Audio File\n",
    "    wave = read_wave(FileName + str(n) + FileFormat)\n",
    "    spectrum = wave.make_spectrum()\n",
    "    # Lowpass filter with fh\n",
    "    spectrum.low_pass(fh)\n",
    "    # Highpass filter with fl\n",
    "    spectrum.high_pass(fl)\n",
    "    # Overrides Temp Audio File\n",
    "    with open(FileName + str(n) + FileFormat, \"w+b\") as edit:\n",
    "        edit.write(spectrum)"
   ]
  },
  {
   "cell_type": "markdown",
   "id": "489ac654-f305-4866-b3cb-931ddd032443",
   "metadata": {
    "jp-MarkdownHeadingCollapsed": true,
    "tags": []
   },
   "source": [
    "##### Build Finished Audio"
   ]
  },
  {
   "cell_type": "code",
   "execution_count": 20,
   "id": "0f318691-d570-4dac-b2de-321533936b17",
   "metadata": {},
   "outputs": [],
   "source": [
    "# Overlaps several AudioFiles which have the same base name + and adressing Number + \".wav\"\n",
    "# Example \"FilterTemp\" + string(n) + \".wav\" starting from 0 to Bandpasscount-1\n",
    "# FileName must not contail \".wav\" !!!\n",
    "# FileType is the file ending, for example \".wav\"\n",
    "# FinishedFileName is the Filename which the Audio will be saved. Must contain Filename+\".wav\"\n",
    "\n",
    "def Build_Audio (FileName, FileFormat, FinishedFileName, BandpassCount):\n",
    "    # Load first Adio file\n",
    "    fullaudio = AudioSegment.from_wav(FileName + \"0\" + FileType)\n",
    "    # Generates loop\n",
    "    for i in range(0, ChooseBandCount-1):\n",
    "        # import current file\n",
    "        temp = AudioSegment.from_wav(FileName + string(ChooseBandCount) + FileFormat)\n",
    "        # Overlays fullaudio with new generated wave file\n",
    "        fullaudio = fullaudio.overlay(temp)\n",
    "\n",
    "    # Saves fullaudio\n",
    "    fullaudio.export(FinishedFileName, FileFormat)\n",
    "    \n",
    "    # Deletes temp Files (optional)"
   ]
  },
  {
   "cell_type": "markdown",
   "id": "7e58e1b5-2a6b-4610-9daf-039a9f2ccc31",
   "metadata": {
    "jp-MarkdownHeadingCollapsed": true,
    "tags": []
   },
   "source": [
    "## Widgets"
   ]
  },
  {
   "cell_type": "code",
   "execution_count": 21,
   "id": "7fa14d7c-a7d9-42b4-bf12-1d536ddbe20a",
   "metadata": {},
   "outputs": [],
   "source": [
    "# Upload a file\n",
    "#Upload = widgets.FileUpload()\n",
    "\n",
    "Widget_Upload = widgets.FileUpload(\n",
    "    accept= FileFormat,  # Accepted file extension e.g. '.txt', '.pdf', 'image/*', 'image/*,.pdf'\n",
    "    multiple=False,  # True to accept multiple files upload else False\n",
    "    tooltips=['Upload a .wav File to Edit it']\n",
    ")"
   ]
  },
  {
   "cell_type": "code",
   "execution_count": 22,
   "id": "7643c8e1-a23f-451c-92f7-97705e96a1e7",
   "metadata": {},
   "outputs": [],
   "source": [
    "Widget_Verify_Upload = widgets.ToggleButton(\n",
    "    value=False,\n",
    "    description='Submit',\n",
    "    disabled=False,\n",
    "    button_style='success', # 'success', 'info', 'warning', 'danger' or ''\n",
    "    tooltip='',\n",
    "    icon='check' # (FontAwesome names without the `fa-` prefix)\n",
    ")"
   ]
  },
  {
   "cell_type": "code",
   "execution_count": 23,
   "id": "96dda659-e3e8-4df1-a040-2845a3424df5",
   "metadata": {},
   "outputs": [],
   "source": [
    "Widget_Verify_EQ = widgets.ToggleButton(\n",
    "    value=False,\n",
    "    description='Calculate',\n",
    "    disabled=False,\n",
    "    button_style='success', # 'success', 'info', 'warning', 'danger' or ''\n",
    "    tooltip='',\n",
    "    icon='check' # (FontAwesome names without the `fa-` prefix)\n",
    ")"
   ]
  },
  {
   "cell_type": "code",
   "execution_count": 24,
   "id": "95400e85-bc83-43ba-a1d8-0eb1fe22f3f6",
   "metadata": {},
   "outputs": [],
   "source": [
    "# Choose EQ Preset\n",
    "Widget_SetFilterType = widgets.ToggleButtons(\n",
    "    options=['Bass', 'Mid', 'High'],\n",
    "    disabled=False,\n",
    "    button_style='', # 'success', 'info', 'warning', 'danger' or ''\n",
    "    tooltips=['Focus on 200Hz', 'Focus on 1kHz', 'Focus on 4kHz']\n",
    ")"
   ]
  },
  {
   "cell_type": "code",
   "execution_count": 25,
   "id": "e5b15d00-c66c-495f-971e-3a23a76aaab1",
   "metadata": {},
   "outputs": [],
   "source": [
    "# Choose Band Count\n",
    "Widget_ChooseBandCount = widgets.BoundedIntText(\n",
    "    value=ChooseBandCount,\n",
    "    min=EQBandmin,\n",
    "    max=EQBandmax,\n",
    "    step=EQstep,\n",
    "    disabled=False\n",
    ")"
   ]
  },
  {
   "cell_type": "code",
   "execution_count": 26,
   "id": "2854f54d-ccda-40ad-a211-9de94bb20538",
   "metadata": {},
   "outputs": [],
   "source": [
    "# Generates Base EQ\n",
    "# EQDisplay = Build_EQ (EQBandmax, Freqspecturmf0)\n",
    "\n",
    "# display(EQDisplay[2])"
   ]
  },
  {
   "cell_type": "markdown",
   "id": "e6cbde58-4666-43d1-87f0-011a33565cdf",
   "metadata": {},
   "source": [
    "#### Combine all Widgets"
   ]
  },
  {
   "cell_type": "code",
   "execution_count": 27,
   "id": "44403cc0-c75e-43c1-b23c-a49f12b9b9dc",
   "metadata": {},
   "outputs": [],
   "source": [
    "UserInterface = widgets.VBox(children = [Text1, Widget_Upload, Widget_Verify_Upload, Text2, Widget_SetFilterType, Text3, Widget_ChooseBandCount, Text4])"
   ]
  },
  {
   "cell_type": "code",
   "execution_count": 28,
   "id": "d76a86ac-7be9-428d-aa09-ec9fd2479f0a",
   "metadata": {},
   "outputs": [],
   "source": [
    "# display(UserInterface)"
   ]
  },
  {
   "cell_type": "markdown",
   "id": "1725ac1e-460c-48aa-83b0-fd1f713f5f15",
   "metadata": {
    "tags": []
   },
   "source": [
    "## Main Calculation"
   ]
  },
  {
   "cell_type": "markdown",
   "id": "2f0b7641-92ae-4d16-a501-d8bbc17ce2bd",
   "metadata": {
    "jp-MarkdownHeadingCollapsed": true,
    "tags": []
   },
   "source": [
    "#### Saves Uploaded File and resets Widget"
   ]
  },
  {
   "cell_type": "code",
   "execution_count": 29,
   "id": "277871aa-4c40-44fb-bc51-378dff098445",
   "metadata": {},
   "outputs": [],
   "source": [
    "# Triggered when: An file is uploaded\n",
    "\n",
    "def SaveUpload(Widget_Verify_Upload):\n",
    "    # Safe Uploaded File\n",
    "    with open(UploadFileName + FileFormat, \"w+b\") as i:\n",
    "        i.write(Widget_Upload.data[0])\n",
    "    \n",
    "    Widget_Upload.value.clear()\n",
    "    Widget_Upload._counter = 0\n",
    "    print(\"Upload Sucessfull!\")"
   ]
  },
  {
   "cell_type": "markdown",
   "id": "04f264c6-4cc9-44eb-96b1-9d2a356caba8",
   "metadata": {
    "jp-MarkdownHeadingCollapsed": true,
    "tags": []
   },
   "source": [
    "#### Configuration Calculation"
   ]
  },
  {
   "cell_type": "code",
   "execution_count": 30,
   "id": "f5b13801-57d1-4684-8bbe-0ea1cee21264",
   "metadata": {},
   "outputs": [],
   "source": [
    "# Triggered when: BandCount or FilterType is changed\n",
    "ChoosenBandCount = ChooseBandCount\n",
    "EQDisplay = Build_EQ (20, Freqspecturmf0)\n",
    "\n",
    "def ProcessConfiguration(SetFilterType, ChooseBandCount):\n",
    "    # Calculate Base Frequency\n",
    "    f_base = returnbasefreq(SetFilterType, ChooseBandCount)\n",
    "    # Calculate f0 Frequencies\n",
    "    global Freqspecturmf0\n",
    "    Freqspecturmf0 = calculate_frequencies(SetFilterType, ChooseBandCount)\n",
    "    # Calculates f0l\n",
    "    global Freqspecturmfl\n",
    "    Freqspecturmfl = calculate_frequencieslow(Freqspecturmf0, ChooseBandCount)\n",
    "    # Calculates f0h\n",
    "    global Freqspecturmfh\n",
    "    Freqspecturmfh = calculate_frequencieshigh(Freqspecturmf0, ChooseBandCount)\n",
    "    \n",
    "    global ChoosenBandCount\n",
    "    ChoosenBandCount = ChooseBandCount\n",
    "    \n",
    "    # Overwrites EQ Data\n",
    "    global EQDisplay\n",
    "    EQDisplay = Build_EQ (ChooseBandCount, Freqspecturmf0)\n",
    "    ShowEQDisplay = widgets.Box(children = EQDisplay)\n",
    "    display(ShowEQDisplay)\n",
    "    \n",
    "    # SaveValue = [0]*ChooseBandCount\n",
    "\n",
    "    # for i in range(ChooseBandCount):\n",
    "    #    SaveValue[i] = EQDisplay[i].value \n",
    "\n",
    "    # print(SaveValue)\n",
    "    # display(\"Test\")"
   ]
  },
  {
   "cell_type": "markdown",
   "id": "a4d7f42b-b5ec-4dec-b7f7-2b45269e22df",
   "metadata": {
    "tags": []
   },
   "source": [
    "#### EQ Calculation"
   ]
  },
  {
   "cell_type": "code",
   "execution_count": 31,
   "id": "1466269e-1b69-450f-9b08-8bcf8313aad6",
   "metadata": {},
   "outputs": [],
   "source": [
    "# Triggered \n",
    "\n",
    "def EQCalculation(Widget_Verify_EQ):\n",
    "    # Normalises Audio to -MaxGain - 3dB, that the maximum Output Amplification -3db is reached\n",
    "    Normalise = Controllrange[0] - 3\n",
    "    Normalise_Audio (UploadFileName, FileFormat, Normalise)\n",
    "    \n",
    "    Generate_Copies (UploadFileName, FileFormat, ChoosenBandCount)\n",
    "    \n",
    "    # Get EQ Values\n",
    "    SaveValue = [0]*ChoosenBandCount\n",
    "    for i in range(ChoosenBandCount):\n",
    "        SaveValue[i] = EQDisplay[i].value\n",
    "    \n",
    "    \n",
    "    # Value of EQ Display is the Gain Value\n",
    "    for n in range(0, ChooseBandCount):\n",
    "        Bandpass_Filter (CloneFileName, FileFormat, n, SaveValue[n], Freqspecturmfh[n], Freqspecturmfh[n])\n",
    "    \n",
    "    Build_Audio (TempFileName, FileFormat, FinishedFileName, BandpassCount)\n",
    "    \n",
    "    \n",
    "    wave = read_wave(TempFileName + FileForma)\n",
    "    plot = wave.make_audio()\n",
    "    display(plot)"
   ]
  },
  {
   "cell_type": "markdown",
   "id": "feeffe58-df13-4dae-ab7f-daa5708bc423",
   "metadata": {
    "tags": []
   },
   "source": [
    "## User Interface"
   ]
  },
  {
   "cell_type": "code",
   "execution_count": 38,
   "id": "69853ca3-cbb4-41fc-98fd-daa88669625c",
   "metadata": {},
   "outputs": [
    {
     "data": {
      "application/vnd.jupyter.widget-view+json": {
       "model_id": "6bce7e596b8a49168c871c643905f9ec",
       "version_major": 2,
       "version_minor": 0
      },
      "text/plain": [
       "VBox(children=(Output(outputs=({'name': 'stdout', 'text': 'Choose your File, that you want to edit:\\n', 'outpu…"
      ]
     },
     "metadata": {},
     "output_type": "display_data"
    },
    {
     "data": {
      "application/vnd.jupyter.widget-view+json": {
       "model_id": "c7bbfec064c2453eb12ab76677d3d0a8",
       "version_major": 2,
       "version_minor": 0
      },
      "text/plain": [
       "Output()"
      ]
     },
     "metadata": {},
     "output_type": "display_data"
    },
    {
     "data": {
      "application/vnd.jupyter.widget-view+json": {
       "model_id": "ba025d08e33643f2ac7d4370047ebbe4",
       "version_major": 2,
       "version_minor": 0
      },
      "text/plain": [
       "Output(outputs=({'name': 'stdout', 'text': '\\nFinished Audio File:\\n', 'output_type': 'stream'},))"
      ]
     },
     "metadata": {},
     "output_type": "display_data"
    },
    {
     "data": {
      "application/vnd.jupyter.widget-view+json": {
       "model_id": "dfe8c2e728ad4c78985c1add026440a2",
       "version_major": 2,
       "version_minor": 0
      },
      "text/plain": [
       "ToggleButton(value=True, button_style='success', description='Submit', icon='check')"
      ]
     },
     "metadata": {},
     "output_type": "display_data"
    },
    {
     "data": {
      "application/vnd.jupyter.widget-view+json": {
       "model_id": "e788c2c1392448e68f3fda1e716cd5a3",
       "version_major": 2,
       "version_minor": 0
      },
      "text/plain": [
       "Output()"
      ]
     },
     "metadata": {},
     "output_type": "display_data"
    }
   ],
   "source": [
    "if __name__ == \"__main__\":\n",
    "    Upload = widgets.interactive_output(SaveUpload, {'Widget_Verify_Upload' : Widget_Verify_Upload})\n",
    "    Configuration = widgets.interactive_output(ProcessConfiguration, {'SetFilterType' : Widget_SetFilterType, 'ChooseBandCount' : Widget_ChooseBandCount})\n",
    "    ActivateEqualizer = widgets.interactive_output(EQCalculation, {'Widget_Verify_EQ' : Widget_Verify_EQ})\n",
    "    \n",
    "    # Equalizer = widgets.interactive_output(EQCalculation, {'EQ_Display' : EQDisplay})\n",
    "    \n",
    "    \n",
    "    # Temp \n",
    "    \n",
    "    # GetValue = EQDisplay.value\n",
    "    # print(GetValue)\n",
    "    # ShowEQDisplay = widgets.Box(children = EQDisplay)\n",
    "    \n",
    "    # display(UserInterface, Configuration, Text5)\n",
    "    display(UserInterface, Configuration, Text5, Widget_Verify_Upload, ActivateEqualizer)\n",
    "    \n",
    "    # ToDo List\n",
    "    \n",
    "    # 1.) Finish Audio Processing (80%, needs final testing after UI is finished)\n",
    "    # 2.) Get EQDisplay Values from widgets.Box(children = slider) (10%, dont know what the problem is lol)\n",
    "    # 3.) Output finished File and Plot (95%, plot needs to be added, needs to be decided what type of plot is used or if any plot is even needed)"
   ]
  },
  {
   "cell_type": "code",
   "execution_count": 33,
   "id": "ac60ca84-24e8-4f94-8fd9-3dab793c77c5",
   "metadata": {},
   "outputs": [
    {
     "name": "stdout",
     "output_type": "stream",
     "text": [
      "[0, 0, 0, 0, 0, 0, 0, 0, 0, 0]\n"
     ]
    }
   ],
   "source": [
    "SaveValue = [0]*ChoosenBandCount\n",
    "\n",
    "for i in range(ChoosenBandCount):\n",
    "    SaveValue[i] = EQDisplay[i].value\n",
    "\n",
    "print(SaveValue)"
   ]
  },
  {
   "cell_type": "markdown",
   "id": "2e1b79d1-08cd-4c06-a530-ea82635d68a5",
   "metadata": {
    "jp-MarkdownHeadingCollapsed": true,
    "tags": []
   },
   "source": [
    "## Formulas Used"
   ]
  },
  {
   "cell_type": "markdown",
   "id": "0c9d043b-579b-4b44-bd66-17b089cde1d1",
   "metadata": {},
   "source": []
  },
  {
   "cell_type": "markdown",
   "id": "f6766977-eb70-4bc9-aa36-35f0178a8bfd",
   "metadata": {},
   "source": []
  },
  {
   "cell_type": "markdown",
   "id": "3e82eb2d-63d3-4bc5-8085-fa1543f3e17c",
   "metadata": {},
   "source": []
  },
  {
   "cell_type": "markdown",
   "id": "8d81dc9f-64d3-4f43-b478-158bc67e689d",
   "metadata": {},
   "source": []
  },
  {
   "cell_type": "markdown",
   "id": "80344288-c361-4140-8fe1-b3d13594ac62",
   "metadata": {
    "tags": []
   },
   "source": [
    "## Sources"
   ]
  },
  {
   "cell_type": "markdown",
   "id": "aa671668-d056-4fe8-84e6-6b8a4a053bfc",
   "metadata": {},
   "source": [
    "#### Example Audio File Credits\n",
    "    Song: Dimension \n",
    "    Creator: Creo \n",
    "    Youtube: https://www.youtube.com/channel/UCsCWA3Y3JppL6feQiMRgm6Q \n",
    "    Website: https://creo-music.com/track/dimension\n",
    "    Licensed under: https://creativecommons.org/licenses/by/4.0/"
   ]
  },
  {
   "cell_type": "markdown",
   "id": "0cd736b0-511e-4565-952d-ded187373455",
   "metadata": {},
   "source": [
    "#### Programming\n",
    "    https://ipywidgets.readthedocs.io/en/latest/examples/Using%20Interact.html\n",
    "    https://ipywidgets.readthedocs.io/en/latest/examples/Widget%20List.html\n",
    "    https://en.wikibooks.org/wiki/LaTeX/Mathematics"
   ]
  },
  {
   "cell_type": "markdown",
   "id": "dd6fac61-2d8c-49e1-8a90-7351f0e6e75f",
   "metadata": {},
   "source": [
    "#### Formulars and Documents for Audio\n",
    "    https://www.teachmeaudio.com/mixing/techniques/audio-spectrum#upper-midrange\n",
    "    https://sound.stackexchange.com/questions/14101/what-is-the-frequency-step-formula-for-10-and-31-band-eqs\n",
    "    http://www.sengpielaudio.com/calculator-octave.html\n",
    "    https://github.com/AllenDowney/ThinkDSP"
   ]
  },
  {
   "cell_type": "markdown",
   "id": "b1c0601a-a01b-409a-9b20-2f38cb97be04",
   "metadata": {},
   "source": [
    "#### Other Programms used\n",
    "    Music editing: Audacity\n",
    "    Music Download: https://github.com/yt-dlp/yt-dlp"
   ]
  },
  {
   "cell_type": "markdown",
   "id": "616fba56-f8ca-414c-9792-327007c14631",
   "metadata": {},
   "source": [
    "#### Special Thanks\n",
    "    https://www.senarclens.eu/~gerald/"
   ]
  },
  {
   "cell_type": "markdown",
   "id": "80bc8c85-8a51-48ab-b723-30dd03584ec9",
   "metadata": {
    "tags": []
   },
   "source": [
    "## Programmer"
   ]
  },
  {
   "cell_type": "markdown",
   "id": "99a333aa-3431-4533-b9e9-61d9bb7bd8b1",
   "metadata": {
    "tags": []
   },
   "source": [
    "#### Programmed by Thomas Pail\n",
    "    GitHub: https://github.com/Tomaru-Pai"
   ]
  }
 ],
 "metadata": {
  "kernelspec": {
   "display_name": "Python 3 (ipykernel)",
   "language": "python",
   "name": "python3"
  },
  "language_info": {
   "codemirror_mode": {
    "name": "ipython",
    "version": 3
   },
   "file_extension": ".py",
   "mimetype": "text/x-python",
   "name": "python",
   "nbconvert_exporter": "python",
   "pygments_lexer": "ipython3",
   "version": "3.10.4"
  }
 },
 "nbformat": 4,
 "nbformat_minor": 5
}
