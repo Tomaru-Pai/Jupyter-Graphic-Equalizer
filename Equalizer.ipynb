{
 "cells": [
  {
   "cell_type": "raw",
   "id": "3dba41bb-0907-4f1e-bdd7-29a1e81e7a83",
   "metadata": {},
   "source": [
    "To Do List\n",
    "-> Explain Fomulars used"
   ]
  },
  {
   "cell_type": "markdown",
   "id": "b5fd9f4d-e201-4b9b-baff-dd4fff278144",
   "metadata": {},
   "source": [
    "## Project Description"
   ]
  },
  {
   "cell_type": "raw",
   "id": "f9b55c2d-4c64-411a-8d5f-f59a90bdf2b8",
   "metadata": {},
   "source": [
    "Project \"Equalizer\" is a modular 5-20 Band Equalizer, which can change the Amplitude of every given Band between -12db to 12db.\n",
    "\n",
    "Features:\n",
    "    1. ) Upload your .wav File that you want to edit in the UI and normalise it to -15dB\n",
    "    2. ) Visual and simplistic UI with live updates\n",
    "    3. ) Change BandCount as well as EQ Mode in real time\n",
    "        BandCount: 5-20 Bands (can be changed in \"Variables\" Category\n",
    "        EQ Mode = Choose between BASS, MID or HIGH Focus\n",
    "            Bass = Low Frequencies 0 - 300 Hz\n",
    "            Mid  = Mid Frequencies 1000 - 4000 Hz\n",
    "            High = High Frequencies 6000 - maxfreq Hz\n",
    "    4. ) Apply Settings and calculate Output\n",
    "        First every Band gets an .wav copy called \"Band\"+[Number]+\".wav\"\n",
    "        Every Band file gets trough a lowpass and highpass filter with the previeous calculatet Values fl and fh\n",
    "        Every Band gets put together again in \"Output.wav\"\n",
    "        ProgressBar is shown to know if the programm is working\n",
    "    5.) Saves Output.wav and shows a spectrum Diagram of the Output File"
   ]
  },
  {
   "cell_type": "markdown",
   "id": "9936c010-f7ef-4f2e-878c-598e249329f6",
   "metadata": {
    "tags": []
   },
   "source": [
    "## Libraries"
   ]
  },
  {
   "cell_type": "markdown",
   "id": "a796e435-6b05-4065-8bc4-8c6dbe90af19",
   "metadata": {
    "tags": []
   },
   "source": [
    "#### Python Integrated or in Folder"
   ]
  },
  {
   "cell_type": "code",
   "execution_count": null,
   "id": "71cfd58d-3241-4527-89cc-6bafe1048c8a",
   "metadata": {},
   "outputs": [],
   "source": [
    "import ipywidgets as widgets\n",
    "import thinkdsp as thinkdsp\n",
    "from thinkdsp import play_wave\n",
    "from thinkdsp import read_wave\n",
    "import math \n",
    "import soundfile as sf\n",
    "import pyloudnorm as pyln\n",
    "import pydub \n",
    "from pydub import AudioSegment\n",
    "import spectrum\n",
    "import scipy\n",
    "import matplotlib.pyplot as plt"
   ]
  },
  {
   "cell_type": "markdown",
   "id": "ff0f1413-afc4-49b4-9b57-367d9d2a26bd",
   "metadata": {
    "tags": []
   },
   "source": [
    "#### Require Installation"
   ]
  },
  {
   "cell_type": "markdown",
   "id": "24d15b78-1c91-4a2c-b97e-efeabb6de462",
   "metadata": {
    "jp-MarkdownHeadingCollapsed": true,
    "tags": []
   },
   "source": [
    "##### Enter these commands into your terminal:\n",
    "    pip install soundfile\n",
    "    pip install pyloudnorm\n",
    "    pip install pydub\n",
    "    pip install spectrum"
   ]
  },
  {
   "cell_type": "markdown",
   "id": "7018d082-25df-40c6-8acc-3315e54fff7f",
   "metadata": {
    "jp-MarkdownHeadingCollapsed": true,
    "tags": []
   },
   "source": [
    "## Variables"
   ]
  },
  {
   "cell_type": "markdown",
   "id": "558b30b3-3e69-47c7-8afc-ebfcb25fe7fa",
   "metadata": {
    "tags": []
   },
   "source": [
    "#### NOT Recommended for change"
   ]
  },
  {
   "cell_type": "code",
   "execution_count": null,
   "id": "e53ebb5c-edc8-4f9f-a804-d7d7f5459df3",
   "metadata": {},
   "outputs": [],
   "source": [
    "ChooseBandCount = 10 # Standard Band Count\n",
    "Controllrange = [-12, 12, 0] # [Decrease, Gain, Default] in dB\n",
    "Normalise_Value = -15\n",
    "EQBandmin = 5\n",
    "EQBandmax = 20\n",
    "EQstep = 5\n",
    "ConfigBandCount = 21\n",
    "OutputGain = -3"
   ]
  },
  {
   "cell_type": "code",
   "execution_count": null,
   "id": "c3150528-58dc-4e3d-93cc-32883789c8a1",
   "metadata": {},
   "outputs": [],
   "source": [
    "Freqspecturmf0 = [16,32,64,128,256,512,1024,2048,4096,8192,0,0,0,0,0,0,0,0,0,0,0] # Displayed Frequency on EQ \n",
    "Freqspecturmfl = [0]*EQBandmax # Lower Frequency for EQ\n",
    "Freqspecturmfh = [0]*EQBandmax # Higher Frequency for EQ"
   ]
  },
  {
   "cell_type": "code",
   "execution_count": null,
   "id": "2df1f433-4e4a-4cf8-afaa-45e45b25f798",
   "metadata": {},
   "outputs": [],
   "source": [
    "# Generates Grid for EQ\n",
    "# EQDisplay = widgets.GridspecLayout(ChooseBandCount, 1)"
   ]
  },
  {
   "cell_type": "markdown",
   "id": "39965b25-c8a6-4a24-911c-f653413132b8",
   "metadata": {
    "tags": []
   },
   "source": [
    "#### Recommended for change"
   ]
  },
  {
   "cell_type": "code",
   "execution_count": null,
   "id": "506ef3c7-b62f-42ad-9f3d-3a943ba35d2b",
   "metadata": {
    "tags": []
   },
   "outputs": [],
   "source": [
    "Text1 = widgets.Output()\n",
    "with Text1:\n",
    "    print(\"Choose your File, that you want to edit:\")\n",
    "    \n",
    "Text2 = widgets.Output()\n",
    "with Text2:\n",
    "    print(\"\\nChoose the focus of the EQ bandpass:\")\n",
    "    \n",
    "Text3 = widgets.Output()\n",
    "with Text3:\n",
    "    print(\"\\nChoose the EQ Slider Count:\")\n",
    "    \n",
    "Text4 = widgets.Output()\n",
    "with Text4:\n",
    "    print(\"\\nEqualizer:\")\n",
    "    \n",
    "Text5 = widgets.Output()\n",
    "with Text5:\n",
    "    print(\"\\nPress to start calculation:\")"
   ]
  },
  {
   "cell_type": "code",
   "execution_count": null,
   "id": "2cf429a3-855e-47c9-bc6b-27d017e2e795",
   "metadata": {},
   "outputs": [],
   "source": [
    "UploadFileName = \"Upload\"\n",
    "FileFormat = \".wav\"\n",
    "FinishedFileName = \"Output\"\n",
    "CloneFileName = \"Band\""
   ]
  },
  {
   "cell_type": "markdown",
   "id": "e3f0209a-47d9-4d12-ac00-8feb48c56e6f",
   "metadata": {
    "jp-MarkdownHeadingCollapsed": true,
    "tags": []
   },
   "source": [
    "## Functions"
   ]
  },
  {
   "cell_type": "markdown",
   "id": "0ffd8cec-1c41-443f-bda0-80fb7808f8f1",
   "metadata": {
    "tags": []
   },
   "source": [
    "##### Generates EQ UI"
   ]
  },
  {
   "cell_type": "code",
   "execution_count": null,
   "id": "47ad03ad-ea68-40f7-b03f-2fb4940b095f",
   "metadata": {},
   "outputs": [],
   "source": [
    "def Build_EQ (ChooseBandCount, Freqspecturmf0):\n",
    "    \n",
    "    slider = [0] * ChooseBandCount\n",
    "    \n",
    "    for i in range(ChooseBandCount):\n",
    "        slider[i] = widgets.IntSlider(\n",
    "           value=Controllrange[2],\n",
    "            min=Controllrange[0],\n",
    "            max=Controllrange[1],\n",
    "            step=1,\n",
    "            description=str(Freqspecturmf0[i])+' Hz',\n",
    "            disabled=False,\n",
    "            continuous_update=False,\n",
    "            orientation='vertical',\n",
    "            readout=True,\n",
    "            readout_format='d',\n",
    "            layout = widgets.Layout(width='50%')\n",
    "        )\n",
    "    \n",
    "    return slider"
   ]
  },
  {
   "cell_type": "markdown",
   "id": "a3d40638-dbce-45ee-abb5-b2574f58e468",
   "metadata": {
    "tags": []
   },
   "source": [
    "##### Calculating Base Frequency of choosen Type of EQ "
   ]
  },
  {
   "cell_type": "code",
   "execution_count": null,
   "id": "ca5237a5-aaf0-4d0a-8151-9575dc964e60",
   "metadata": {},
   "outputs": [],
   "source": [
    "def returnbasefreq(SetFilterType, ChooseBandCount):\n",
    "    # Scans input of choosen Type of EQ and gives back predefined start Frequencies for an 8 Band EQ\n",
    "    if (SetFilterType == 'Bass'):\n",
    "        f_base = 20\n",
    "    if (SetFilterType == 'Mid'):\n",
    "        f_base = 40\n",
    "    if (SetFilterType == 'High'):\n",
    "        f_base = 80\n",
    "    \n",
    "    # Modulates Frequency depending on difference between 8 / ChoosenBand\n",
    "    f_base = f_base * (8/ChooseBandCount)\n",
    "        \n",
    "    return f_base"
   ]
  },
  {
   "cell_type": "markdown",
   "id": "7dcdb850-eafd-4dd2-91ae-6306fcac890c",
   "metadata": {
    "tags": []
   },
   "source": [
    "##### Calculates Base Frequencies that are displayed on EQ"
   ]
  },
  {
   "cell_type": "code",
   "execution_count": null,
   "id": "6cf0eb2b-410d-4814-a4bb-39deb827c5eb",
   "metadata": {},
   "outputs": [],
   "source": [
    "def calculate_frequencies(SetFilterType, ChooseBandCount):\n",
    "    #resets values in Freqspecturm\n",
    "    Freqspecturmf0 = [0] * (EQBandmax+1) # Clears all values that were precalculatet\n",
    "    \n",
    "    # Select start frequency for calculation\n",
    "    f_base = int(returnbasefreq(SetFilterType, ChooseBandCount))\n",
    "    # Calculates Modulation Rate for n-Frequencies\n",
    "    f_mod = pow(2, 10 / ChooseBandCount)\n",
    "    \n",
    "    # Generates Freqspecturm for given Type and Bandcount\n",
    "    Freqspecturmf0[0] = f_base\n",
    "    \n",
    "    for i in range(1, ChooseBandCount+1):\n",
    "        Freqspecturmf0[i] = int(f_mod * Freqspecturmf0[i-1]) # int() Rounds Value to non decimal\n",
    "    \n",
    "    # print (Freqspecturm)\n",
    "    return Freqspecturmf0"
   ]
  },
  {
   "cell_type": "markdown",
   "id": "67753367-c35c-4ec5-afcd-b1030bfc5681",
   "metadata": {
    "tags": []
   },
   "source": [
    "##### Calculates log average of f0[n] and f0[n-1]"
   ]
  },
  {
   "cell_type": "code",
   "execution_count": null,
   "id": "04b6c203-899a-4a16-94e9-134a59e19600",
   "metadata": {},
   "outputs": [],
   "source": [
    "def calculate_frequencieslow(Freqspecturmf0, ChooseBandCount):\n",
    "    # For the value of fl[0] of f0[0] we need to calculate f0[-1], fortunatly because we dont need a highpass on the first EQ we can set fl[0] = 0\n",
    "    Freqspecturmfl = [0]*EQBandmax # Clears all values that were precalculatet\n",
    "    \n",
    "    Freqspecturmfl[0] = 0\n",
    "    \n",
    "    for i in range(1, ChooseBandCount):\n",
    "            Freqspecturmfl[i] = int(math.sqrt(Freqspecturmf0[i] * Freqspecturmf0[i-1]))\n",
    "    \n",
    "    return Freqspecturmfl"
   ]
  },
  {
   "cell_type": "code",
   "execution_count": null,
   "id": "7837e27f-db5f-4539-bdea-c8f3d284e20e",
   "metadata": {},
   "outputs": [],
   "source": [
    "f = calculate_frequencieslow(Freqspecturmf0, ChooseBandCount)\n",
    "f"
   ]
  },
  {
   "cell_type": "markdown",
   "id": "0b807a58-9727-46a9-99c1-aeda4a400e72",
   "metadata": {
    "tags": []
   },
   "source": [
    "##### Calculates log average of f0[n] and f0[n+1]"
   ]
  },
  {
   "cell_type": "code",
   "execution_count": null,
   "id": "155c1122-b1a7-4896-8bd0-ca427dd7a39f",
   "metadata": {},
   "outputs": [],
   "source": [
    "def calculate_frequencieshigh(Freqspecturmf0, ChooseBandCount):\n",
    "    # For the value of fh[n] of f0[n] we need to calculate f0[n+1]\n",
    "    Freqspecturmfh = [0] * (EQBandmax + 1) # Clears all values that were precalculatet\n",
    "    \n",
    "    f_mod = pow(2, 10 / ChooseBandCount)\n",
    "    fnp1 = f_mod * Freqspecturmf0[ChooseBandCount]\n",
    "    \n",
    "    for i in range(0, ChooseBandCount-1):\n",
    "            Freqspecturmfh[i] = int(math.sqrt(Freqspecturmf0[i] * Freqspecturmf0[i+1]))\n",
    "    \n",
    "    # Since Upper Band needs COntroll too we need to define upper limit to max Frequency\n",
    "    Freqspecturmfh[ChooseBandCount-1] = 48000\n",
    "    \n",
    "    return Freqspecturmfh"
   ]
  },
  {
   "cell_type": "markdown",
   "id": "baa14498-ccb3-46d7-b612-cb78e4488a96",
   "metadata": {
    "tags": []
   },
   "source": [
    "##### Normalising Audio"
   ]
  },
  {
   "cell_type": "code",
   "execution_count": null,
   "id": "aa8d70af-2c93-4da8-b32f-719628dc8f88",
   "metadata": {},
   "outputs": [],
   "source": [
    "# Value is the dB Value that the file will be normalised with\n",
    "# void function: Overrides [FileName] File\n",
    "\n",
    "def Normalise_Audio (FileName, FileFormat, Normalise):\n",
    "    # Load Audio File as shape(data, wave)\n",
    "    data, rate = sf.read(FileName + FileFormat)\n",
    "\n",
    "    # Initiolising loudness Meter by BS.1770 standart \n",
    "    meter = pyln.Meter(rate) \n",
    "    # measure loudness in dB\n",
    "    loudness = meter.integrated_loudness(data)\n",
    "    \n",
    "    # loudness normalize audio to [Normalise] dB LUFS\n",
    "    loudness_normalized_audio = pyln.normalize.loudness(data, loudness, Normalise)\n",
    "    sf.write(FileName + FileFormat, loudness_normalized_audio, rate)"
   ]
  },
  {
   "cell_type": "markdown",
   "id": "2b16c5e4-aa19-4aab-af3e-b29651d11ef0",
   "metadata": {
    "tags": []
   },
   "source": [
    "##### Generating temporary files"
   ]
  },
  {
   "cell_type": "code",
   "execution_count": null,
   "id": "690f36d0-4a69-43b7-9655-b5146d5209b4",
   "metadata": {},
   "outputs": [],
   "source": [
    "# Generates Temp Copies for Processing every single Band\n",
    "\n",
    "def Generate_Copies(FileName, FileFormat, BandpassCount):\n",
    "    # import Upload File\n",
    "    wave = read_wave(UploadFileName + FileFormat)\n",
    "    \n",
    "    for n in range(0, BandpassCount):\n",
    "        wave.write(FileName + str(n) + FileFormat)"
   ]
  },
  {
   "cell_type": "markdown",
   "id": "1361ff66-639a-4578-820b-2decaaad6bf6",
   "metadata": {
    "tags": []
   },
   "source": [
    "##### Bandpass Filter "
   ]
  },
  {
   "cell_type": "code",
   "execution_count": null,
   "id": "04ee5416-2b20-4176-bdbb-de092c2e5cb5",
   "metadata": {},
   "outputs": [],
   "source": [
    "# Overwrites [n] temp Audio File\n",
    "# Filename is the current edited Bandpass\n",
    "# Gain is the current used Gain value of said bandpass\n",
    "\n",
    "def Bandpass_Filter (FileName, FileFormat, n, Gain, fl, fh):\n",
    "    # Load Audio File\n",
    "    wave = read_wave(FileName + str(n) + FileFormat)\n",
    "\n",
    "    spectrum = wave.make_spectrum()\n",
    "    # Lowpass filter with fh\n",
    "    spectrum.low_pass(fh)\n",
    "    # Highpass filter with fl\n",
    "    spectrum.high_pass(fl)\n",
    "    # Overrides Temp Audio File\n",
    "    filtered = spectrum.make_wave()\n",
    "    filtered.write(FileName + str(n) + FileFormat)\n",
    "\n",
    "    \n",
    "    # Change Gain\n",
    "    wave = AudioSegment.from_wav(FileName + str(n) + FileFormat)\n",
    "\n",
    "    # but let's make him *very* quiet\n",
    "    gain_wave = wave + Gain\n",
    "\n",
    "    # save the output\n",
    "    gain_wave.export(FileName + str(n) + FileFormat, \"wav\")"
   ]
  },
  {
   "cell_type": "markdown",
   "id": "489ac654-f305-4866-b3cb-931ddd032443",
   "metadata": {
    "tags": []
   },
   "source": [
    "##### Build Finished Audio"
   ]
  },
  {
   "cell_type": "code",
   "execution_count": null,
   "id": "0f318691-d570-4dac-b2de-321533936b17",
   "metadata": {},
   "outputs": [],
   "source": [
    "# Overlaps several AudioFiles which have the same base name + and adressing Number + \".wav\"\n",
    "# Example \"FilterTemp\" + string(n) + \".wav\" starting from 0 to Bandpasscount-1\n",
    "# FileName must not contail \".wav\" !!!\n",
    "# FileType is the file ending, for example \".wav\"\n",
    "# FinishedFileName is the Filename which the Audio will be saved. Must contain Filename+\".wav\"\n",
    "\n",
    "def Build_Audio (FileName, FileFormat, FinishedFileName, BandpassCount):\n",
    "    # Load first Adio file\n",
    "    fullaudio = AudioSegment.from_wav(FileName + \"0\" + FileFormat)\n",
    "    # Generates loop\n",
    "    for i in range(1, ChooseBandCount):\n",
    "        # import current file\n",
    "        temp = AudioSegment.from_wav(FileName + str(i) + FileFormat)\n",
    "        # Overlays fullaudio with new generated wave file\n",
    "        fullaudio = fullaudio.overlay(temp)\n",
    "\n",
    "    # Saves fullaudio\n",
    "    fullaudio.export(FinishedFileName + \".wav\", \"wav\")\n",
    "    \n",
    "    # Deletes temp Files (optional)"
   ]
  },
  {
   "cell_type": "markdown",
   "id": "7e58e1b5-2a6b-4610-9daf-039a9f2ccc31",
   "metadata": {
    "jp-MarkdownHeadingCollapsed": true,
    "tags": []
   },
   "source": [
    "## Widgets"
   ]
  },
  {
   "cell_type": "code",
   "execution_count": null,
   "id": "7fa14d7c-a7d9-42b4-bf12-1d536ddbe20a",
   "metadata": {},
   "outputs": [],
   "source": [
    "Widget_Upload = widgets.FileUpload(\n",
    "    accept= FileFormat,  # Accepted file extension e.g. '.txt', '.pdf', 'image/*', 'image/*,.pdf'\n",
    "    multiple=False,  # True to accept multiple files upload else False\n",
    "    tooltips=['Upload a .wav File to Edit it']\n",
    ")"
   ]
  },
  {
   "cell_type": "code",
   "execution_count": null,
   "id": "7643c8e1-a23f-451c-92f7-97705e96a1e7",
   "metadata": {},
   "outputs": [],
   "source": [
    "Widget_Verify_Upload = widgets.Button(\n",
    "    value=False,\n",
    "    description='Submit',\n",
    "    disabled=False,\n",
    "    button_style='success', # 'success', 'info', 'warning', 'danger' or ''\n",
    "    tooltip='',\n",
    "    icon='check' # (FontAwesome names without the `fa-` prefix)\n",
    ")"
   ]
  },
  {
   "cell_type": "code",
   "execution_count": null,
   "id": "96dda659-e3e8-4df1-a040-2845a3424df5",
   "metadata": {},
   "outputs": [],
   "source": [
    "Widget_Verify_EQ = widgets.Button(\n",
    "    value=False,\n",
    "    description='Calculate',\n",
    "    disabled=False,\n",
    "    button_style='success', # 'success', 'info', 'warning', 'danger' or ''\n",
    "    tooltip='',\n",
    "    icon='check' # (FontAwesome names without the `fa-` prefix)\n",
    ")"
   ]
  },
  {
   "cell_type": "code",
   "execution_count": null,
   "id": "95400e85-bc83-43ba-a1d8-0eb1fe22f3f6",
   "metadata": {},
   "outputs": [],
   "source": [
    "# Choose EQ Preset\n",
    "Widget_SetFilterType = widgets.ToggleButtons(\n",
    "    options=['Bass', 'Mid', 'High'],\n",
    "    disabled=False,\n",
    "    button_style='', # 'success', 'info', 'warning', 'danger' or ''\n",
    "    tooltips=['Focus on 200Hz', 'Focus on 1kHz', 'Focus on 4kHz']\n",
    ")"
   ]
  },
  {
   "cell_type": "code",
   "execution_count": null,
   "id": "e5b15d00-c66c-495f-971e-3a23a76aaab1",
   "metadata": {},
   "outputs": [],
   "source": [
    "# Choose Band Count\n",
    "Widget_ChooseBandCount = widgets.BoundedIntText(\n",
    "    value=ChooseBandCount,\n",
    "    min=EQBandmin,\n",
    "    max=EQBandmax,\n",
    "    step=EQstep,\n",
    "    disabled=False\n",
    ")"
   ]
  },
  {
   "cell_type": "code",
   "execution_count": null,
   "id": "f83c67e3-0b6b-4a36-a62a-31d50631a10c",
   "metadata": {},
   "outputs": [],
   "source": [
    "progress = widgets.FloatProgress(\n",
    "    value=0.0, \n",
    "    min=0.0, \n",
    "    max=1.0, \n",
    "    # description='Progress:',\n",
    "    bar_style='success',\n",
    "    # style={'bar_color': '#2EFF00'},\n",
    "    orientation='horizontal'\n",
    "    )"
   ]
  },
  {
   "cell_type": "code",
   "execution_count": null,
   "id": "fb0a2747-797c-4684-955c-a27c80f21ec9",
   "metadata": {},
   "outputs": [],
   "source": [
    "Output = widgets.Output()"
   ]
  },
  {
   "cell_type": "markdown",
   "id": "e6cbde58-4666-43d1-87f0-011a33565cdf",
   "metadata": {},
   "source": [
    "#### Combine all Widgets"
   ]
  },
  {
   "cell_type": "code",
   "execution_count": null,
   "id": "44403cc0-c75e-43c1-b23c-a49f12b9b9dc",
   "metadata": {},
   "outputs": [],
   "source": [
    "UserInterface = widgets.VBox(children = [Text1, Widget_Upload, Widget_Verify_Upload, Text2, Widget_SetFilterType, Text3, Widget_ChooseBandCount, Text4])"
   ]
  },
  {
   "cell_type": "markdown",
   "id": "1725ac1e-460c-48aa-83b0-fd1f713f5f15",
   "metadata": {
    "tags": []
   },
   "source": [
    "## Main Calculation"
   ]
  },
  {
   "cell_type": "markdown",
   "id": "2f0b7641-92ae-4d16-a501-d8bbc17ce2bd",
   "metadata": {
    "tags": []
   },
   "source": [
    "#### Saves Uploaded File and resets Widget"
   ]
  },
  {
   "cell_type": "code",
   "execution_count": null,
   "id": "277871aa-4c40-44fb-bc51-378dff098445",
   "metadata": {},
   "outputs": [],
   "source": [
    "# Triggered when: A file is uploaded\n",
    "\n",
    "def SaveUpload(Widget_Verify_Upload):\n",
    "\n",
    "    with open(UploadFileName + FileFormat, \"w+b\") as i:\n",
    "        i.write(Widget_Upload.data[0])\n",
    "    \n",
    "    # Normalises Audio to -MaxGain - 3dB, that the maximum Output Amplification -3db is reached\n",
    "    Normalise_Audio(UploadFileName, FileFormat, Normalise_Value)\n",
    "    \n",
    "    Widget_Upload.value.clear()\n",
    "    Widget_Upload._counter = 0"
   ]
  },
  {
   "cell_type": "markdown",
   "id": "04f264c6-4cc9-44eb-96b1-9d2a356caba8",
   "metadata": {
    "tags": []
   },
   "source": [
    "#### Configuration Calculation"
   ]
  },
  {
   "cell_type": "code",
   "execution_count": null,
   "id": "f5b13801-57d1-4684-8bbe-0ea1cee21264",
   "metadata": {},
   "outputs": [],
   "source": [
    "# Triggered when: BandCount or FilterType is changed\n",
    "EQDisplay = Build_EQ (20, Freqspecturmf0)\n",
    "\n",
    "def ProcessConfiguration(SetFilterType, Widget_ChooseBandCount):\n",
    "    global ChooseBandCount\n",
    "    ChooseBandCount = Widget_ChooseBandCount\n",
    "    # Calculate Base Frequency\n",
    "    f_base = returnbasefreq(SetFilterType, ChooseBandCount)\n",
    "    # Calculate f0 Frequencies\n",
    "    global Freqspecturmf0\n",
    "    Freqspecturmf0 = calculate_frequencies(SetFilterType, ChooseBandCount)\n",
    "    # Calculates f0l\n",
    "    global Freqspecturmfl\n",
    "    Freqspecturmfl = calculate_frequencieslow(Freqspecturmf0, ChooseBandCount)\n",
    "    # Calculates f0h\n",
    "    global Freqspecturmfh\n",
    "    Freqspecturmfh = calculate_frequencieshigh(Freqspecturmf0, ChooseBandCount)\n",
    "    \n",
    "    global ChoosenBandCount\n",
    "    ChoosenBandCount = ChooseBandCount\n",
    "    \n",
    "    # Overwrites EQ Data\n",
    "    global EQDisplay\n",
    "    EQDisplay = Build_EQ (ChooseBandCount, Freqspecturmf0)\n",
    "    ShowEQDisplay = widgets.Box(children = EQDisplay)\n",
    "    display(ShowEQDisplay)\n",
    "    \n",
    "    # SaveValue = [0]*ChooseBandCount\n",
    "\n",
    "    # for i in range(ChooseBandCount):\n",
    "    #    SaveValue[i] = EQDisplay[i].value \n",
    "\n",
    "    # print(SaveValue)\n",
    "    # display(\"Test\")"
   ]
  },
  {
   "cell_type": "markdown",
   "id": "a4d7f42b-b5ec-4dec-b7f7-2b45269e22df",
   "metadata": {
    "tags": []
   },
   "source": [
    "#### EQ Calculation"
   ]
  },
  {
   "cell_type": "code",
   "execution_count": null,
   "id": "1466269e-1b69-450f-9b08-8bcf8313aad6",
   "metadata": {},
   "outputs": [],
   "source": [
    "# Value that describes all steps of Progress\n",
    "\n",
    "# Triggered \n",
    "def EQCalculation(Widget_Verify_EQ): \n",
    "    Output.clear_output()\n",
    "    progress.value = 0\n",
    "    Generate_Copies (CloneFileName, FileFormat, ChoosenBandCount)\n",
    "    \n",
    "    # Get EQ Values\n",
    "    SaveValue = [0]*ChoosenBandCount\n",
    "    for i in range(ChoosenBandCount):\n",
    "        SaveValue[i] = EQDisplay[i].value\n",
    "        \n",
    "    # display(SaveValue)\n",
    "    \n",
    "    # Value of EQ Display is the Gain Value\n",
    "    for n in range(0, ChoosenBandCount):\n",
    "        Bandpass_Filter (CloneFileName, FileFormat, n, SaveValue[n], Freqspecturmfl[n], Freqspecturmfh[n])\n",
    "        progress.value = float(n+1)/(ChoosenBandCount)\n",
    "    \n",
    "    Build_Audio (CloneFileName, FileFormat, FinishedFileName, ChoosenBandCount)\n",
    "    \n",
    "    waveUpload = read_wave(UploadFileName + \".wav\")\n",
    "    spectrum = waveUpload.make_spectrum()\n",
    "    spectrum.plot(color='0.7')\n",
    "    waveOutput = read_wave(FinishedFileName + \".wav\")\n",
    "    spectrum = waveOutput.make_spectrum()\n",
    "    spectrum.plot(color='#045a8d')\n",
    "    \n",
    "    waveOutput.make_audio()\n",
    "    \n",
    "    with Output:\n",
    "        plt.show()\n",
    "        display(waveOutput.make_audio())"
   ]
  },
  {
   "cell_type": "markdown",
   "id": "feeffe58-df13-4dae-ab7f-daa5708bc423",
   "metadata": {
    "tags": []
   },
   "source": [
    "## User Interface"
   ]
  },
  {
   "cell_type": "code",
   "execution_count": null,
   "id": "69853ca3-cbb4-41fc-98fd-daa88669625c",
   "metadata": {},
   "outputs": [],
   "source": [
    "if __name__ == \"__main__\":\n",
    "    Output.clear_output()\n",
    "    progress.value = 0\n",
    "    Widget_Verify_Upload.on_click(SaveUpload)\n",
    "    Configuration = widgets.interactive_output(ProcessConfiguration, {'SetFilterType' : Widget_SetFilterType, 'Widget_ChooseBandCount' : Widget_ChooseBandCount})\n",
    "    Widget_Verify_EQ.on_click(EQCalculation)\n",
    "    \n",
    "    display(UserInterface, Configuration, Text5, Widget_Verify_EQ, progress, Output)"
   ]
  },
  {
   "cell_type": "markdown",
   "id": "80bc8c85-8a51-48ab-b723-30dd03584ec9",
   "metadata": {
    "jp-MarkdownHeadingCollapsed": true,
    "tags": []
   },
   "source": [
    "## Programmer"
   ]
  },
  {
   "cell_type": "markdown",
   "id": "99a333aa-3431-4533-b9e9-61d9bb7bd8b1",
   "metadata": {
    "tags": []
   },
   "source": [
    "#### Programmed by Thomas Pail\n",
    "    GitHub: https://github.com/Tomaru-Pai"
   ]
  },
  {
   "cell_type": "markdown",
   "id": "2e1b79d1-08cd-4c06-a530-ea82635d68a5",
   "metadata": {
    "tags": []
   },
   "source": [
    "## Formulas Used"
   ]
  },
  {
   "cell_type": "markdown",
   "id": "80344288-c361-4140-8fe1-b3d13594ac62",
   "metadata": {
    "tags": []
   },
   "source": [
    "## Sources"
   ]
  },
  {
   "cell_type": "markdown",
   "id": "aa671668-d056-4fe8-84e6-6b8a4a053bfc",
   "metadata": {},
   "source": [
    "#### Example Audio File Credits\n",
    "    Song: Dimension \n",
    "    Creator: Creo \n",
    "    Youtube: https://www.youtube.com/channel/UCsCWA3Y3JppL6feQiMRgm6Q \n",
    "    Website: https://creo-music.com/track/dimension\n",
    "    Licensed under: https://creativecommons.org/licenses/by/4.0/"
   ]
  },
  {
   "cell_type": "markdown",
   "id": "0cd736b0-511e-4565-952d-ded187373455",
   "metadata": {},
   "source": [
    "#### Programming\n",
    "    https://ipywidgets.readthedocs.io/en/latest/examples/Using%20Interact.html\n",
    "    https://ipywidgets.readthedocs.io/en/latest/examples/Widget%20List.html\n",
    "    https://en.wikibooks.org/wiki/LaTeX/Mathematics\n",
    "    https://stackoverflow.com/"
   ]
  },
  {
   "cell_type": "markdown",
   "id": "dd6fac61-2d8c-49e1-8a90-7351f0e6e75f",
   "metadata": {},
   "source": [
    "#### Formulars and Documents for Audio\n",
    "    https://www.teachmeaudio.com/mixing/techniques/audio-spectrum#upper-midrange\n",
    "    https://sound.stackexchange.com/questions/14101/what-is-the-frequency-step-formula-for-10-and-31-band-eqs\n",
    "    http://www.sengpielaudio.com/calculator-octave.html\n",
    "    https://github.com/AllenDowney/ThinkDSP"
   ]
  },
  {
   "cell_type": "markdown",
   "id": "b1c0601a-a01b-409a-9b20-2f38cb97be04",
   "metadata": {},
   "source": [
    "#### Other Programms used\n",
    "    Music editing: Audacity\n",
    "    Music Download: https://github.com/yt-dlp/yt-dlp"
   ]
  },
  {
   "cell_type": "markdown",
   "id": "616fba56-f8ca-414c-9792-327007c14631",
   "metadata": {},
   "source": [
    "#### Special Thanks\n",
    "    https://www.senarclens.eu/~gerald/"
   ]
  }
 ],
 "metadata": {
  "kernelspec": {
   "display_name": "Python 3 (ipykernel)",
   "language": "python",
   "name": "python3"
  },
  "language_info": {
   "codemirror_mode": {
    "name": "ipython",
    "version": 3
   },
   "file_extension": ".py",
   "mimetype": "text/x-python",
   "name": "python",
   "nbconvert_exporter": "python",
   "pygments_lexer": "ipython3",
   "version": "3.10.4"
  }
 },
 "nbformat": 4,
 "nbformat_minor": 5
}
