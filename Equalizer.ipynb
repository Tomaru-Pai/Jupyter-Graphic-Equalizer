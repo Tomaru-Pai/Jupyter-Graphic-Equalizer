{
 "cells": [
  {
   "cell_type": "markdown",
   "id": "9fa9d9ec-3f29-4948-961e-e91744ebc85f",
   "metadata": {},
   "source": [
    "For 10 Band EQ\n",
    "$\n",
    "f1 = lowerband\n",
    "\\newline\n",
    "f0 = Baseband\n",
    "\\newline\n",
    "f2 = upperband\n",
    "\\newline\n",
    "f1 = \\frac{f2}{2} = 0,5 * f2\n",
    "\\newline\n",
    "f2 = 2 * f1\n",
    "\\newline\n",
    "f0 = \\sqrt{f1*f2} = \\sqrt{2} * f1\n",
    "\\newline\n",
    "f1 - f2 = I * f0 = \n",
    "\\newline\n",
    "I = (\\sqrt{2} - \\frac{1}{\\sqrt{2}}) = \\frac{\\sqrt{2}}{2} = 0.707106781\n",
    "$\n",
    "\n",
    "10^((n+12)/10)"
   ]
  },
  {
   "cell_type": "raw",
   "id": "cc4a0807-4cc4-4579-998b-8548f5ab9618",
   "metadata": {},
   "source": [
    "B is the standard Frequency Value for a 10 Band Equalizer:\n",
    "for High: 50Hz\n",
    "for Mid: 30 Hz\n",
    "for Low: 20 Hz\n",
    "\n",
    "M is the Modulation of the Frequency:\n",
    "M = 2^(10/BandCount)\n",
    "\n",
    "Calculate Base Frequency for given Band count:\n",
    "fbase = B * (10/BandCount)\n",
    "fn = M * f(n-1)\n",
    "\n"
   ]
  },
  {
   "cell_type": "markdown",
   "id": "ad53273f-ec89-4b24-9669-a088f9965c44",
   "metadata": {
    "tags": []
   },
   "source": [
    "##### Define Libraries and Values"
   ]
  },
  {
   "cell_type": "code",
   "execution_count": 1,
   "id": "504482fd-4a00-4c0c-9d4a-8479b1a13750",
   "metadata": {},
   "outputs": [],
   "source": [
    "import ipywidgets as widgets"
   ]
  },
  {
   "cell_type": "code",
   "execution_count": 2,
   "id": "fb6655cc-38f7-48e4-8a19-34fbe73c256c",
   "metadata": {},
   "outputs": [],
   "source": [
    "Text1 = widgets.Output()\n",
    "with Text1:\n",
    "    print(\"Choose your File, that you want to edit:\")\n",
    "    \n",
    "Text2 = widgets.Output()\n",
    "with Text2:\n",
    "    print(\"\\nChoose the focus of the EQ bandpass:\")\n",
    "    \n",
    "Text3 = widgets.Output()\n",
    "with Text3:\n",
    "    print(\"\\nChoose the EQ Slider Count:\")\n",
    "    \n",
    "Text4 = widgets.Output()\n",
    "with Text4:\n",
    "    print(\"\\nEqualizer:\")"
   ]
  },
  {
   "cell_type": "code",
   "execution_count": 3,
   "id": "523a2c67-ed75-45ca-a5c7-43def84dc32d",
   "metadata": {},
   "outputs": [],
   "source": [
    "Bands = 10\n",
    "GraphicEQ = widgets.GridspecLayout(Bands, 1)\n",
    "Controllrange = [-12, 12, 0]"
   ]
  },
  {
   "cell_type": "markdown",
   "id": "96c42c66-a4fb-493e-8aab-9596f3a5a80c",
   "metadata": {
    "tags": []
   },
   "source": [
    "#### Widgets"
   ]
  },
  {
   "cell_type": "code",
   "execution_count": 4,
   "id": "546cbd24-cb77-4b3f-85de-2e2e05763213",
   "metadata": {},
   "outputs": [],
   "source": [
    "# Upload a file\n",
    "Upload = widgets.FileUpload(\n",
    "    accept='',  # Accepted file extension e.g. '.txt', '.pdf', 'image/*', 'image/*,.pdf'\n",
    "    multiple=False,  # True to accept multiple files upload else False\n",
    "    tooltips=['Upload a .wav File to Edit it']\n",
    ")"
   ]
  },
  {
   "cell_type": "code",
   "execution_count": 5,
   "id": "0c2dfc19-8c7a-4f8f-bcd6-e0c05bfb03f7",
   "metadata": {},
   "outputs": [],
   "source": [
    "# Choose EQ Preset\n",
    "SetFilterType = widgets.ToggleButtons(\n",
    "    options=['Bass', 'Mid', 'High'],\n",
    "    disabled=False,\n",
    "    button_style='', # 'success', 'info', 'warning', 'danger' or ''\n",
    "    tooltips=['Focus on 200Hz', 'Focus on 1kHz', 'Focus on 4kHz']\n",
    ")"
   ]
  },
  {
   "cell_type": "code",
   "execution_count": 6,
   "id": "cdde105c-dc37-4cb3-85d9-540c348a474c",
   "metadata": {},
   "outputs": [],
   "source": [
    "# Choose Band Count\n",
    "ChooseBandCount = widgets.BoundedIntText(\n",
    "    value=Bands,\n",
    "    min=5,\n",
    "    max=20,\n",
    "    step=5,\n",
    "    disabled=False\n",
    ")"
   ]
  },
  {
   "cell_type": "code",
   "execution_count": 7,
   "id": "daf4ebee-c4c3-4fc6-afd1-04b1afb7c48b",
   "metadata": {},
   "outputs": [],
   "source": [
    "#Generates Freqspectrum for later use\n",
    "Freqspecturm = [0,0,0,0,0,0,0,0,0,0,0,0,0,0,0,0,0,0,0,0]\n",
    "#if SetFilterType == 'Bass':\n",
    "    #Freqspecturm = [1,2,3,4,5,6,7,8,9,10,11,12,13,14,15,16,17,18,19,20]\n",
    "#if SetFilterType == 'Mid':\n",
    "    #Freqspecturm = [21,22,23,24,25,26,27,28,29,30,31,32,33,34,35,36,37,38,39,40]"
   ]
  },
  {
   "cell_type": "code",
   "execution_count": 15,
   "id": "c5733ce8-1131-4e11-8c8b-700c0f9aa858",
   "metadata": {},
   "outputs": [],
   "source": [
    "def returnbasefreq(SetFilterType, ChooseBandCount):\n",
    "    if (SetFilterType == 'Bass'):\n",
    "        f_base = 20\n",
    "    if (SetFilterType == 'Mid'):\n",
    "        f_base = 30\n",
    "    if (SetFilterType == 'High'):\n",
    "        f_base = 50\n",
    "    \n",
    "    f_base = f_base * (10/ChooseBandCount)\n",
    "        \n",
    "    return f_base"
   ]
  },
  {
   "cell_type": "code",
   "execution_count": 16,
   "id": "38d9ab4e-7320-4597-90e7-15fc7be84fcd",
   "metadata": {},
   "outputs": [],
   "source": [
    "def calculate_frequencies(SetFilterType, ChooseBandCount):\n",
    "    #resets values in Freqspecturm (optional can be removed)\n",
    "    #Freqspecturm = [0,0,0,0,0,0,0,0,0,0,0,0,0,0,0,0,0,0,0,0]\n",
    "    \n",
    "    # Select start frequency for calculation\n",
    "    f_base = int(returnbasefreq(SetFilterType, ChooseBandCount))\n",
    "    # Calculates Modulation Rate for n-Frequencies\n",
    "    f_mod = pow(2, 10 / ChooseBandCount)\n",
    "    \n",
    "    # Generates Freqspecturm for given Type and Bandcount\n",
    "    Freqspecturm[0] = f_base\n",
    "    \n",
    "    for i in range(1, ChooseBandCount):\n",
    "        Freqspecturm[i] = int(round(f_mod * Freqspecturm[i-1], 0)) # int() Rounds Value to non decimal\n",
    "    \n",
    "    # print (Freqspecturm)\n",
    "    return Freqspecturm\n",
    "\n",
    "# SetFilterType = 'Mid'\n",
    "# ChooseBandCount = 20\n",
    "# calculate_frequencies(SetFilterType, ChooseBandCount)"
   ]
  },
  {
   "cell_type": "code",
   "execution_count": 17,
   "id": "1b352d96-daf3-48b5-97dd-fc549e882d49",
   "metadata": {},
   "outputs": [],
   "source": [
    "# Builds EQ \n",
    "def Build_Equalizer (SetFilterType, ChooseBandCount):\n",
    "    # print((SetFilterType))\n",
    "    # print((Bands))\n",
    "    \n",
    "    GraphicEQ = widgets.GridspecLayout(Bands, 1)\n",
    "    \n",
    "    #Calculates Freqspectrum with SetFilterType and ChooseBandCount\n",
    "    \n",
    "    #Temp\n",
    "    Freqspecturm = calculate_frequencies(SetFilterType, ChooseBandCount)\n",
    "        \n",
    "    # Calculate Frequency steps\n",
    "    slider = [widgets.IntSlider(\n",
    "        value=Controllrange[2],\n",
    "        min=Controllrange[0],\n",
    "        max=Controllrange[1],\n",
    "        step=1,\n",
    "        description=str(Freqspecturm[i])+' Hz',\n",
    "        disabled=False,\n",
    "        continuous_update=False,\n",
    "        orientation='vertical',\n",
    "        readout=True,\n",
    "        readout_format='d',\n",
    "        layout = widgets.Layout(width='50%')\n",
    "    ) for i in range(int(ChooseBandCount))]\n",
    "    \n",
    "    EQDisplay = widgets.Box(children=slider)\n",
    "    \n",
    "    display(EQDisplay)"
   ]
  },
  {
   "cell_type": "markdown",
   "id": "5b56ced4-d15e-4cd9-a044-98d2b295d52f",
   "metadata": {},
   "source": [
    "## Display Programm Interface\n",
    "\n"
   ]
  },
  {
   "cell_type": "code",
   "execution_count": 18,
   "id": "47216510-a8c4-4ba7-8d6c-46663bc64fb5",
   "metadata": {},
   "outputs": [
    {
     "data": {
      "application/vnd.jupyter.widget-view+json": {
       "model_id": "a85749f8655c4e6c95219d96b2c4d1e5",
       "version_major": 2,
       "version_minor": 0
      },
      "text/plain": [
       "VBox(children=(Output(outputs=({'name': 'stdout', 'text': 'Choose your File, that you want to edit:\\n', 'outpu…"
      ]
     },
     "metadata": {},
     "output_type": "display_data"
    },
    {
     "data": {
      "application/vnd.jupyter.widget-view+json": {
       "model_id": "70b549857e514b2f8b5c412ab78507fa",
       "version_major": 2,
       "version_minor": 0
      },
      "text/plain": [
       "Output()"
      ]
     },
     "metadata": {},
     "output_type": "display_data"
    }
   ],
   "source": [
    "# Combine and Format all Widgets\n",
    "UserInterface = widgets.VBox(children = [Text1, Upload, Text2, SetFilterType, Text3, ChooseBandCount, Text4, GraphicEQ])\n",
    "EQValues = widgets.interactive_output(Build_Equalizer, {'SetFilterType': SetFilterType, 'ChooseBandCount': ChooseBandCount})\n",
    "#FilterType = widgets.interactive_output(Calculate_Frequencies, {'SetFilterType': SetFilterType})\n",
    "\n",
    "display(UserInterface, EQValues)"
   ]
  },
  {
   "cell_type": "markdown",
   "id": "3e435767-d959-477c-8ca6-159c27156aac",
   "metadata": {
    "tags": []
   },
   "source": [
    "### Sources"
   ]
  },
  {
   "cell_type": "markdown",
   "id": "25a53871-9995-4316-893c-635b513f01c6",
   "metadata": {
    "tags": []
   },
   "source": [
    "#### Example Audio File Credits\n",
    "    Song: Dimension \n",
    "    Creator: Creo \n",
    "    Youtube: https://www.youtube.com/channel/UCsCWA3Y3JppL6feQiMRgm6Q \n",
    "    Website: https://creo-music.com/track/dimension\n",
    "    Licensed under: https://creativecommons.org/licenses/by/4.0/\n",
    "\n",
    "#### Programming\n",
    "    https://ipywidgets.readthedocs.io/en/latest/examples/Using%20Interact.html\n",
    "    https://ipywidgets.readthedocs.io/en/latest/examples/Widget%20List.html\n",
    "    https://en.wikibooks.org/wiki/LaTeX/Mathematics\n",
    "\n",
    "#### Formulars and Documents for Audio\n",
    "    https://www.teachmeaudio.com/mixing/techniques/audio-spectrum#upper-midrange\n",
    "    \n",
    "#### Other Programms used\n",
    "    Music editing: Audacity\n",
    "    Music Download: https://github.com/yt-dlp/yt-dlp\n",
    "    \n",
    "#### Special Thanks\n",
    "    https://www.senarclens.eu/~gerald/"
   ]
  },
  {
   "cell_type": "markdown",
   "id": "54ca8de9-7e60-4039-85f5-3eb698e5787d",
   "metadata": {},
   "source": [
    "<br>Upload file\n",
    "<br>Split Audio into its Passes\n",
    "<br>Redo if EQ Mode is changed\n",
    "<br>\n",
    "<br>Display EQ Sliders\n",
    "<br>Combine Audio Parts back together\n",
    "<br>Display Output Plots\n",
    "<br>Dispay finished file"
   ]
  },
  {
   "cell_type": "markdown",
   "id": "f89936b7-7add-4777-bf81-5ee130606277",
   "metadata": {
    "tags": []
   },
   "source": [
    "### TestArea"
   ]
  },
  {
   "cell_type": "code",
   "execution_count": null,
   "id": "ab5ebbe2-c12a-4538-a8b0-f125c9c61e32",
   "metadata": {},
   "outputs": [],
   "source": [
    "a = widgets.IntSlider()\n",
    "b = widgets.IntSlider()\n",
    "c = widgets.IntSlider()\n",
    "ui = widgets.HBox([a, b, c])\n",
    "def f(a, b, c):\n",
    "    print((a, b, c))\n",
    "\n",
    "out = widgets.interactive_output(f, {'a': a, 'b': b, 'c': c})\n",
    "\n",
    "display(ui, out)"
   ]
  },
  {
   "cell_type": "code",
   "execution_count": null,
   "id": "f1a044cd-36bd-43df-b5f3-7c60b775eab2",
   "metadata": {},
   "outputs": [],
   "source": [
    "x_widget = widgets.FloatSlider(min=0.0, max=10.0, step=0.05)\n",
    "y_widget = widgets.FloatSlider(min=0.5, max=10.0, step=0.05, value=5.0)\n",
    "\n",
    "def update_x_range(*args):\n",
    "    x_widget.max = 2.0 * y_widget.value\n",
    "y_widget.observe(update_x_range, 'value')\n",
    "\n",
    "def printer(x, y):\n",
    "    print(x, y)\n",
    "widgets.interact(printer,x=x_widget, y=y_widget);"
   ]
  },
  {
   "cell_type": "code",
   "execution_count": null,
   "id": "b3ad5386-8ba7-4a8d-9972-38b4c3ad7217",
   "metadata": {},
   "outputs": [],
   "source": []
  }
 ],
 "metadata": {
  "kernelspec": {
   "display_name": "Python 3 (ipykernel)",
   "language": "python",
   "name": "python3"
  },
  "language_info": {
   "codemirror_mode": {
    "name": "ipython",
    "version": 3
   },
   "file_extension": ".py",
   "mimetype": "text/x-python",
   "name": "python",
   "nbconvert_exporter": "python",
   "pygments_lexer": "ipython3",
   "version": "3.9.5"
  }
 },
 "nbformat": 4,
 "nbformat_minor": 5
}
