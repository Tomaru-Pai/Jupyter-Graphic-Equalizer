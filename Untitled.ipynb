{
 "cells": [
  {
   "cell_type": "markdown",
   "id": "72576de9-3548-4266-b0b0-deefe875a020",
   "metadata": {},
   "source": [
    "# Equlizer\n",
    "\n",
    "## Plans\n",
    "1. Upload .wav File \n",
    "2. Plot .wav File (spectrum, sine)\n",
    "3. Setup Interaction\n",
    "4. Ask Low, Mid or High\n",
    "5. Calculate Bandpass Frequencies\n",
    "6. Show Bandpass with right Frequencies\n",
    "7. Calculate amplification or decrease\n",
    "\n"
   ]
  },
  {
   "cell_type": "markdown",
   "id": "2b4c04bd-c8b4-4f8c-a5c8-be58d0516574",
   "metadata": {},
   "source": [
    "#### Bibliotheken"
   ]
  },
  {
   "cell_type": "code",
   "execution_count": 1,
   "id": "b057dcf0-cbd3-4dd9-828a-9f44ec47b689",
   "metadata": {},
   "outputs": [],
   "source": [
    "import numpy as np\n",
    "import ipywidgets as widgets\n",
    "import matplotlib as matplot"
   ]
  },
  {
   "cell_type": "markdown",
   "id": "3e943c82-4cc8-4ae1-bdf8-e840ab16edb5",
   "metadata": {
    "tags": []
   },
   "source": [
    "#### Systemvariablen\n",
    "\n",
    "SetupMode = Definiert auf welches Frequenzspektrum die Bandpässe mehr einfluss haben\n",
    "\n",
    "Controllrange = [Maximale reduzierung, Maximale verstärkung, Standartwert]\n",
    "\n",
    "Bands = Anzahl der zu berechnenden Bänder. Default = 10"
   ]
  },
  {
   "cell_type": "code",
   "execution_count": 2,
   "id": "e68beea9-aa11-4849-9502-3747a8aed1a3",
   "metadata": {},
   "outputs": [],
   "source": [
    "SetupMode = [\"Bass\", \"Mid\", \"High\"]\n",
    "\n",
    "Controllrange = [-12, 12, 0]\n",
    "\n",
    "Bands = 5"
   ]
  },
  {
   "cell_type": "code",
   "execution_count": 14,
   "id": "dae2d9bc-ba8f-46f6-b80a-452a780dea4f",
   "metadata": {},
   "outputs": [
    {
     "data": {
      "application/vnd.jupyter.widget-view+json": {
       "model_id": "1535023d24264599bcd80ac514c32ca5",
       "version_major": 2,
       "version_minor": 0
      },
      "text/plain": [
       "Box(children=(IntSlider(value=0, continuous_update=False, description='1 Hz', layout=Layout(width='50%'), max=…"
      ]
     },
     "metadata": {},
     "output_type": "display_data"
    }
   ],
   "source": [
    "\"\"\" Generating EQ Slider \"\"\"\n",
    "\n",
    "\n",
    "Testfreq = [1,2,3,4,5,6,7,8,9,10,11,12,13,14,15,16,17,18,19,20]\n",
    "\n",
    "GraphicEQ = widgets.GridspecLayout(Bands, 1)\n",
    "\n",
    "slider = [widgets.IntSlider(\n",
    "        value=Controllrange[2],\n",
    "        min=Controllrange[0],\n",
    "        max=Controllrange[1],\n",
    "        step=1,\n",
    "        description=str(Testfreq[i])+' Hz',\n",
    "        disabled=False,\n",
    "        continuous_update=False,\n",
    "        orientation='vertical',\n",
    "        readout=True,\n",
    "        readout_format='d',\n",
    "        layout = widgets.Layout(width='50%')\n",
    "    ) for i in range(Bands)]\n",
    "\n",
    "EQDisplay = widgets.Box(children=slider)\n",
    "#-> carousel = widgets.Box(children=items, layout=box_layout)\n",
    "\n",
    "EQDisplay"
   ]
  },
  {
   "cell_type": "code",
   "execution_count": null,
   "id": "3d230af6-161e-4ab9-8d39-84f83c6ccaef",
   "metadata": {},
   "outputs": [],
   "source": []
  },
  {
   "cell_type": "code",
   "execution_count": null,
   "id": "9b7652b1-9d84-469c-859a-955c53a5cf55",
   "metadata": {},
   "outputs": [],
   "source": []
  },
  {
   "cell_type": "code",
   "execution_count": 4,
   "id": "f78aba96-a644-4dcd-b904-3e3f4735c1cc",
   "metadata": {},
   "outputs": [],
   "source": [
    "Testfreq = [1,2,3,4,5,6,7,8,9,10,11,12,13,14,15,16,17,18,19,20]"
   ]
  },
  {
   "cell_type": "code",
   "execution_count": 5,
   "id": "360cc86e-6c6d-4eb4-a832-cdb328a880ef",
   "metadata": {},
   "outputs": [
    {
     "data": {
      "application/vnd.jupyter.widget-view+json": {
       "model_id": "91ca0c79741e4ee4ace1c4c6c9fad569",
       "version_major": 2,
       "version_minor": 0
      },
      "text/plain": [
       "BoundedIntText(value=10, description=':', max=20, min=5)"
      ]
     },
     "metadata": {},
     "output_type": "display_data"
    }
   ],
   "source": [
    "widgets.BoundedIntText(\n",
    "    value=10,\n",
    "    min=5,\n",
    "    max=20,\n",
    "    step=1,\n",
    "    description=':',\n",
    "    disabled=False\n",
    ")"
   ]
  },
  {
   "cell_type": "code",
   "execution_count": 6,
   "id": "198193c6-6c28-4275-b0c4-8b307fe1f28e",
   "metadata": {},
   "outputs": [
    {
     "data": {
      "application/vnd.jupyter.widget-view+json": {
       "model_id": "5cdeeb1afd2043ecb0625e7d5d14c699",
       "version_major": 2,
       "version_minor": 0
      },
      "text/plain": [
       "Checkbox(value=False, description='Check me', indent=False)"
      ]
     },
     "metadata": {},
     "output_type": "display_data"
    }
   ],
   "source": [
    "widgets.Checkbox(\n",
    "    value=False,\n",
    "    description='Check me',\n",
    "    disabled=False,\n",
    "    indent=False\n",
    ")"
   ]
  },
  {
   "cell_type": "code",
   "execution_count": 7,
   "id": "d497b9f4-d064-4f83-9692-3ec1cecfff33",
   "metadata": {},
   "outputs": [
    {
     "data": {
      "application/vnd.jupyter.widget-view+json": {
       "model_id": "0146cb7350ac4177a3b90dd255f269fd",
       "version_major": 2,
       "version_minor": 0
      },
      "text/plain": [
       "Valid(value=True, description='Parameter wurden richtig angegeben')"
      ]
     },
     "metadata": {},
     "output_type": "display_data"
    }
   ],
   "source": [
    "widgets.Valid(\n",
    "    value=True,\n",
    "    description='Parameter wurden richtig angegeben',\n",
    ")"
   ]
  },
  {
   "cell_type": "code",
   "execution_count": 8,
   "id": "1c33260e-54c8-4608-80a4-f7ff91eaa82f",
   "metadata": {},
   "outputs": [
    {
     "data": {
      "application/vnd.jupyter.widget-view+json": {
       "model_id": "bd46f10606344337b5c80f07bebd4810",
       "version_major": 2,
       "version_minor": 0
      },
      "text/plain": [
       "Dropdown(description='EQ-Focus', index=1, options=(('Bass', 1), ('Mid', 2), ('High', 3)), value=2)"
      ]
     },
     "metadata": {},
     "output_type": "display_data"
    }
   ],
   "source": [
    "widgets.Dropdown(\n",
    "    options=[('Bass', 1), ('Mid', 2), ('High', 3)],\n",
    "    value=2,\n",
    "    description='EQ-Focus',\n",
    ")"
   ]
  },
  {
   "cell_type": "code",
   "execution_count": 9,
   "id": "4563ecc1-8c78-466c-b58b-949ee9de57fe",
   "metadata": {},
   "outputs": [
    {
     "data": {
      "application/vnd.jupyter.widget-view+json": {
       "model_id": "a5e21943e78049bbb694b38e30dc1f67",
       "version_major": 2,
       "version_minor": 0
      },
      "text/plain": [
       "ToggleButtons(description='EQ-Pass:', options=('Bass', 'Mid', 'High'), tooltips=('Description of slow', 'Descr…"
      ]
     },
     "metadata": {},
     "output_type": "display_data"
    }
   ],
   "source": [
    "widgets.ToggleButtons(\n",
    "    options=['Bass', 'Mid', 'High'],\n",
    "    description='EQ-Pass:',\n",
    "    disabled=False,\n",
    "    button_style='', # 'success', 'info', 'warning', 'danger' or ''\n",
    "    tooltips=['Description of slow', 'Description of regular', 'Description of fast'],\n",
    "#     icons=['check'] * 3\n",
    ")"
   ]
  },
  {
   "cell_type": "code",
   "execution_count": 10,
   "id": "97cc1496-382e-48be-9fec-ebe97773a3fb",
   "metadata": {},
   "outputs": [
    {
     "data": {
      "application/vnd.jupyter.widget-view+json": {
       "model_id": "3b1cfcfe44cc483fb3e211518f94ca31",
       "version_major": 2,
       "version_minor": 0
      },
      "text/plain": [
       "FileUpload(value={}, description='Upload')"
      ]
     },
     "metadata": {},
     "output_type": "display_data"
    }
   ],
   "source": [
    "widgets.FileUpload(\n",
    "    accept='',  # Accepted file extension e.g. '.txt', '.pdf', 'image/*', 'image/*,.pdf'\n",
    "    multiple=False  # True to accept multiple files upload else False\n",
    ")"
   ]
  },
  {
   "cell_type": "code",
   "execution_count": 11,
   "id": "d30163db-c2d6-4001-a0d9-e27c669bede7",
   "metadata": {},
   "outputs": [
    {
     "data": {
      "application/vnd.jupyter.widget-view+json": {
       "model_id": "d18a031451cd4151838f947ec13bf227",
       "version_major": 2,
       "version_minor": 0
      },
      "text/plain": [
       "FileUpload(value={}, description='Upload')"
      ]
     },
     "metadata": {},
     "output_type": "display_data"
    }
   ],
   "source": [
    "uploader = widgets.FileUpload()\n",
    "display(uploader)"
   ]
  },
  {
   "cell_type": "code",
   "execution_count": 12,
   "id": "64b7fff9-290d-4e3c-8a42-2dbc3ea7495b",
   "metadata": {},
   "outputs": [
    {
     "ename": "NameError",
     "evalue": "name 'mode' is not defined",
     "output_type": "error",
     "traceback": [
      "\u001b[1;31m---------------------------------------------------------------------------\u001b[0m",
      "\u001b[1;31mNameError\u001b[0m                                 Traceback (most recent call last)",
      "Input \u001b[1;32mIn [12]\u001b[0m, in \u001b[0;36m<cell line: 1>\u001b[1;34m()\u001b[0m\n\u001b[1;32m----> 1\u001b[0m \u001b[43mmode\u001b[49m\u001b[38;5;241m.\u001b[39mvalue\n",
      "\u001b[1;31mNameError\u001b[0m: name 'mode' is not defined"
     ]
    }
   ],
   "source": [
    "mode.value"
   ]
  },
  {
   "cell_type": "code",
   "execution_count": null,
   "id": "6ba5e118-b40f-4061-ae9c-89748dc6fb78",
   "metadata": {},
   "outputs": [],
   "source": [
    "display(mode)"
   ]
  },
  {
   "cell_type": "code",
   "execution_count": null,
   "id": "b2dc8b2e-5c1e-4626-a6bb-8462e14a11c9",
   "metadata": {},
   "outputs": [],
   "source": [
    "SetupMode = [\"Bass\", \"Mid\", \"High\"]\n",
    "SetupMode[1]"
   ]
  },
  {
   "cell_type": "code",
   "execution_count": null,
   "id": "b6c32132-b604-433c-9eec-c8d1bbb46540",
   "metadata": {},
   "outputs": [],
   "source": []
  }
 ],
 "metadata": {
  "kernelspec": {
   "display_name": "Python 3 (ipykernel)",
   "language": "python",
   "name": "python3"
  },
  "language_info": {
   "codemirror_mode": {
    "name": "ipython",
    "version": 3
   },
   "file_extension": ".py",
   "mimetype": "text/x-python",
   "name": "python",
   "nbconvert_exporter": "python",
   "pygments_lexer": "ipython3",
   "version": "3.9.5"
  }
 },
 "nbformat": 4,
 "nbformat_minor": 5
}
